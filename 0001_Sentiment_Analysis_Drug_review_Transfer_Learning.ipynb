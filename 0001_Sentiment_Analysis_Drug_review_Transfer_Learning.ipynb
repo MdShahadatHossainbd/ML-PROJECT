{
  "nbformat": 4,
  "nbformat_minor": 0,
  "metadata": {
    "colab": {
      "name": "0001 Sentiment Analysis - Drug review-Transfer Learning.ipynb",
      "provenance": [],
      "authorship_tag": "ABX9TyPsRPqYUAuzukX5ea2u8utg",
      "include_colab_link": true
    },
    "kernelspec": {
      "name": "python3",
      "display_name": "Python 3"
    }
  },
  "cells": [
    {
      "cell_type": "markdown",
      "metadata": {
        "id": "view-in-github",
        "colab_type": "text"
      },
      "source": [
        "<a href=\"https://colab.research.google.com/github/MdShahadatHossainbd/ML-Project/blob/main/0001_Sentiment_Analysis_Drug_review_Transfer_Learning.ipynb\" target=\"_parent\"><img src=\"https://colab.research.google.com/assets/colab-badge.svg\" alt=\"Open In Colab\"/></a>"
      ]
    },
    {
      "cell_type": "code",
      "metadata": {
        "id": "ZHoHmJlI2NhG"
      },
      "source": [
        "import numpy as np # linear algebra\n",
        "import pandas as pd # data processing, CSV file I/O (e.g. pd.read_csv)\n",
        "import time\n",
        "import tensorflow as tf\n",
        "import tensorflow_hub as hub\n",
        "import matplotlib.pyplot as plt # plotting"
      ],
      "execution_count": 20,
      "outputs": []
    },
    {
      "cell_type": "code",
      "metadata": {
        "id": "rU6DCXvx2YzL"
      },
      "source": [
        "def load_dataset(file_path, num_samples):\n",
        "    df = pd.read_csv(file_path, usecols=[3, 4], nrows=num_samples)\n",
        "    df.columns = ['review', 'rating']\n",
        "\n",
        "    text = df['review'].tolist()\n",
        "    text = [str(t).encode('ascii', 'replace') for t in text]\n",
        "    text = np.array(text, dtype=object)[:]\n",
        "    \n",
        "    labels = df['rating'].tolist()\n",
        "    labels = [1 if i>=7 else 0 if i>=5 else -1 for i in labels]\n",
        "    labels = np.array(pd.get_dummies(labels), dtype=int)[:] \n",
        "\n",
        "    return labels, text"
      ],
      "execution_count": 7,
      "outputs": []
    },
    {
      "cell_type": "code",
      "metadata": {
        "colab": {
          "base_uri": "https://localhost:8080/"
        },
        "id": "FvqYuh_A3OPe",
        "outputId": "cd4159d4-83e2-4061-b175-729be579555d"
      },
      "source": [
        "from google.colab import drive\n",
        "drive.mount('/content/gdrive')"
      ],
      "execution_count": 3,
      "outputs": [
        {
          "output_type": "stream",
          "text": [
            "Mounted at /content/gdrive\n"
          ],
          "name": "stdout"
        }
      ]
    },
    {
      "cell_type": "code",
      "metadata": {
        "colab": {
          "base_uri": "https://localhost:8080/"
        },
        "id": "TzQ8cB-R3RvJ",
        "outputId": "a4c36d26-8efa-48f7-89f7-5000e8a1fd0a"
      },
      "source": [
        "tmp_labels, tmp_text = load_dataset('/content/gdrive/MyDrive/archive/drugsComTrain_raw.csv', 568454)\n",
        "tmp_text.shape"
      ],
      "execution_count": 10,
      "outputs": [
        {
          "output_type": "execute_result",
          "data": {
            "text/plain": [
              "(161297,)"
            ]
          },
          "metadata": {
            "tags": []
          },
          "execution_count": 10
        }
      ]
    },
    {
      "cell_type": "code",
      "metadata": {
        "colab": {
          "base_uri": "https://localhost:8080/"
        },
        "id": "Jw2pVyez4Vgx",
        "outputId": "7fb97f8a-e842-4c45-ecad-eb5e35aa1cc0"
      },
      "source": [
        "test_labels, test_text = load_dataset('/content/gdrive/MyDrive/archive/drugsComTest_raw.csv',60000)\n",
        "test_text.shape"
      ],
      "execution_count": 12,
      "outputs": [
        {
          "output_type": "execute_result",
          "data": {
            "text/plain": [
              "(53766,)"
            ]
          },
          "metadata": {
            "tags": []
          },
          "execution_count": 12
        }
      ]
    },
    {
      "cell_type": "code",
      "metadata": {
        "colab": {
          "base_uri": "https://localhost:8080/"
        },
        "id": "Cw4m-wiA4r9s",
        "outputId": "caaa98c1-4394-4bc5-d8b6-bc0ddaf02618"
      },
      "source": [
        "hub_layer = hub.KerasLayer(\"https://tfhub.dev/google/tf2-preview/nnlm-en-dim128/1\", output_shape=[50], \n",
        "                           input_shape=[], dtype=tf.string, name='input', trainable=False)\n",
        "\n",
        "model = tf.keras.Sequential()\n",
        "model.add(hub_layer)\n",
        "model.add(tf.keras.layers.Dense(1024, activation='relu'))\n",
        "model.add(tf.keras.layers.Dropout(0.2))\n",
        "model.add(tf.keras.layers.Dense(3, activation='softmax', name='output'))\n",
        "model.compile(loss='categorical_crossentropy',\n",
        "                  optimizer='Adam', metrics=['accuracy'])\n",
        "model.summary()"
      ],
      "execution_count": 13,
      "outputs": [
        {
          "output_type": "stream",
          "text": [
            "Model: \"sequential\"\n",
            "_________________________________________________________________\n",
            "Layer (type)                 Output Shape              Param #   \n",
            "=================================================================\n",
            "input (KerasLayer)           (None, 128)               124642688 \n",
            "_________________________________________________________________\n",
            "dense (Dense)                (None, 1024)              132096    \n",
            "_________________________________________________________________\n",
            "dropout (Dropout)            (None, 1024)              0         \n",
            "_________________________________________________________________\n",
            "output (Dense)               (None, 3)                 3075      \n",
            "=================================================================\n",
            "Total params: 124,777,859\n",
            "Trainable params: 135,171\n",
            "Non-trainable params: 124,642,688\n",
            "_________________________________________________________________\n"
          ],
          "name": "stdout"
        }
      ]
    },
    {
      "cell_type": "code",
      "metadata": {
        "colab": {
          "base_uri": "https://localhost:8080/"
        },
        "id": "bS6BFsHc5ZqF",
        "outputId": "49b70ce5-0a98-4a4b-fd68-e2d68a3c8925"
      },
      "source": [
        "print(\"Training the model ...\")\n",
        "history = model.fit(test_text,test_labels, batch_size = 128, epochs=50, verbose=1,\n",
        "              validation_data=(test_text,test_labels),)"
      ],
      "execution_count": 14,
      "outputs": [
        {
          "output_type": "stream",
          "text": [
            "Training the model ...\n",
            "Epoch 1/50\n",
            "421/421 [==============================] - 7s 16ms/step - loss: 0.7990 - accuracy: 0.6692 - val_loss: 0.7383 - val_accuracy: 0.6950\n",
            "Epoch 2/50\n",
            "421/421 [==============================] - 6s 15ms/step - loss: 0.7390 - accuracy: 0.6971 - val_loss: 0.7181 - val_accuracy: 0.7085\n",
            "Epoch 3/50\n",
            "421/421 [==============================] - 7s 16ms/step - loss: 0.7221 - accuracy: 0.7067 - val_loss: 0.7065 - val_accuracy: 0.7120\n",
            "Epoch 4/50\n",
            "421/421 [==============================] - 7s 16ms/step - loss: 0.7046 - accuracy: 0.7120 - val_loss: 0.6826 - val_accuracy: 0.7236\n",
            "Epoch 5/50\n",
            "421/421 [==============================] - 7s 16ms/step - loss: 0.6918 - accuracy: 0.7208 - val_loss: 0.6846 - val_accuracy: 0.7197\n",
            "Epoch 6/50\n",
            "421/421 [==============================] - 7s 16ms/step - loss: 0.6800 - accuracy: 0.7251 - val_loss: 0.6561 - val_accuracy: 0.7370\n",
            "Epoch 7/50\n",
            "421/421 [==============================] - 7s 15ms/step - loss: 0.6615 - accuracy: 0.7342 - val_loss: 0.6511 - val_accuracy: 0.7447\n",
            "Epoch 8/50\n",
            "421/421 [==============================] - 7s 16ms/step - loss: 0.6572 - accuracy: 0.7362 - val_loss: 0.6371 - val_accuracy: 0.7445\n",
            "Epoch 9/50\n",
            "421/421 [==============================] - 7s 16ms/step - loss: 0.6409 - accuracy: 0.7409 - val_loss: 0.6162 - val_accuracy: 0.7569\n",
            "Epoch 10/50\n",
            "421/421 [==============================] - 7s 15ms/step - loss: 0.6303 - accuracy: 0.7465 - val_loss: 0.6042 - val_accuracy: 0.7559\n",
            "Epoch 11/50\n",
            "421/421 [==============================] - 7s 15ms/step - loss: 0.6197 - accuracy: 0.7520 - val_loss: 0.5945 - val_accuracy: 0.7674\n",
            "Epoch 12/50\n",
            "421/421 [==============================] - 7s 16ms/step - loss: 0.6069 - accuracy: 0.7582 - val_loss: 0.5789 - val_accuracy: 0.7712\n",
            "Epoch 13/50\n",
            "421/421 [==============================] - 6s 15ms/step - loss: 0.5969 - accuracy: 0.7616 - val_loss: 0.5674 - val_accuracy: 0.7740\n",
            "Epoch 14/50\n",
            "421/421 [==============================] - 7s 16ms/step - loss: 0.5838 - accuracy: 0.7684 - val_loss: 0.5563 - val_accuracy: 0.7823\n",
            "Epoch 15/50\n",
            "421/421 [==============================] - 7s 16ms/step - loss: 0.5692 - accuracy: 0.7754 - val_loss: 0.5391 - val_accuracy: 0.7882\n",
            "Epoch 16/50\n",
            "421/421 [==============================] - 7s 16ms/step - loss: 0.5544 - accuracy: 0.7810 - val_loss: 0.5269 - val_accuracy: 0.7993\n",
            "Epoch 17/50\n",
            "421/421 [==============================] - 7s 16ms/step - loss: 0.5465 - accuracy: 0.7840 - val_loss: 0.5147 - val_accuracy: 0.7976\n",
            "Epoch 18/50\n",
            "421/421 [==============================] - 7s 16ms/step - loss: 0.5357 - accuracy: 0.7892 - val_loss: 0.5022 - val_accuracy: 0.8131\n",
            "Epoch 19/50\n",
            "421/421 [==============================] - 7s 16ms/step - loss: 0.5237 - accuracy: 0.7960 - val_loss: 0.4885 - val_accuracy: 0.8086\n",
            "Epoch 20/50\n",
            "421/421 [==============================] - 7s 16ms/step - loss: 0.5138 - accuracy: 0.7971 - val_loss: 0.4773 - val_accuracy: 0.8151\n",
            "Epoch 21/50\n",
            "421/421 [==============================] - 7s 16ms/step - loss: 0.5041 - accuracy: 0.8051 - val_loss: 0.4620 - val_accuracy: 0.8241\n",
            "Epoch 22/50\n",
            "421/421 [==============================] - 7s 16ms/step - loss: 0.4999 - accuracy: 0.8036 - val_loss: 0.4495 - val_accuracy: 0.8317\n",
            "Epoch 23/50\n",
            "421/421 [==============================] - 7s 17ms/step - loss: 0.4792 - accuracy: 0.8142 - val_loss: 0.4526 - val_accuracy: 0.8228\n",
            "Epoch 24/50\n",
            "421/421 [==============================] - 7s 16ms/step - loss: 0.4683 - accuracy: 0.8167 - val_loss: 0.4285 - val_accuracy: 0.8376\n",
            "Epoch 25/50\n",
            "421/421 [==============================] - 7s 16ms/step - loss: 0.4629 - accuracy: 0.8209 - val_loss: 0.4170 - val_accuracy: 0.8414\n",
            "Epoch 26/50\n",
            "421/421 [==============================] - 7s 16ms/step - loss: 0.4533 - accuracy: 0.8253 - val_loss: 0.4004 - val_accuracy: 0.8588\n",
            "Epoch 27/50\n",
            "421/421 [==============================] - 7s 16ms/step - loss: 0.4413 - accuracy: 0.8326 - val_loss: 0.4068 - val_accuracy: 0.8541\n",
            "Epoch 28/50\n",
            "421/421 [==============================] - 7s 16ms/step - loss: 0.4479 - accuracy: 0.8284 - val_loss: 0.3824 - val_accuracy: 0.8643\n",
            "Epoch 29/50\n",
            "421/421 [==============================] - 7s 15ms/step - loss: 0.4169 - accuracy: 0.8417 - val_loss: 0.3675 - val_accuracy: 0.8655\n",
            "Epoch 30/50\n",
            "421/421 [==============================] - 7s 16ms/step - loss: 0.4154 - accuracy: 0.8417 - val_loss: 0.3596 - val_accuracy: 0.8676\n",
            "Epoch 31/50\n",
            "421/421 [==============================] - 7s 16ms/step - loss: 0.4071 - accuracy: 0.8451 - val_loss: 0.3475 - val_accuracy: 0.8842\n",
            "Epoch 32/50\n",
            "421/421 [==============================] - 7s 16ms/step - loss: 0.3986 - accuracy: 0.8532 - val_loss: 0.3369 - val_accuracy: 0.8793\n",
            "Epoch 33/50\n",
            "421/421 [==============================] - 7s 16ms/step - loss: 0.3895 - accuracy: 0.8515 - val_loss: 0.3389 - val_accuracy: 0.8962\n",
            "Epoch 34/50\n",
            "421/421 [==============================] - 7s 16ms/step - loss: 0.3776 - accuracy: 0.8567 - val_loss: 0.3179 - val_accuracy: 0.8871\n",
            "Epoch 35/50\n",
            "421/421 [==============================] - 7s 16ms/step - loss: 0.3704 - accuracy: 0.8589 - val_loss: 0.3163 - val_accuracy: 0.8826\n",
            "Epoch 36/50\n",
            "421/421 [==============================] - 7s 16ms/step - loss: 0.3622 - accuracy: 0.8637 - val_loss: 0.3023 - val_accuracy: 0.8964\n",
            "Epoch 37/50\n",
            "421/421 [==============================] - 7s 16ms/step - loss: 0.3519 - accuracy: 0.8692 - val_loss: 0.2921 - val_accuracy: 0.9065\n",
            "Epoch 38/50\n",
            "421/421 [==============================] - 7s 16ms/step - loss: 0.3498 - accuracy: 0.8686 - val_loss: 0.2834 - val_accuracy: 0.9099\n",
            "Epoch 39/50\n",
            "421/421 [==============================] - 7s 15ms/step - loss: 0.3464 - accuracy: 0.8693 - val_loss: 0.2771 - val_accuracy: 0.9024\n",
            "Epoch 40/50\n",
            "421/421 [==============================] - 7s 16ms/step - loss: 0.3330 - accuracy: 0.8760 - val_loss: 0.2671 - val_accuracy: 0.9194\n",
            "Epoch 41/50\n",
            "421/421 [==============================] - 7s 17ms/step - loss: 0.3220 - accuracy: 0.8811 - val_loss: 0.2630 - val_accuracy: 0.9074\n",
            "Epoch 42/50\n",
            "421/421 [==============================] - 7s 16ms/step - loss: 0.3165 - accuracy: 0.8833 - val_loss: 0.2718 - val_accuracy: 0.8952\n",
            "Epoch 43/50\n",
            "421/421 [==============================] - 7s 16ms/step - loss: 0.3190 - accuracy: 0.8802 - val_loss: 0.2428 - val_accuracy: 0.9252\n",
            "Epoch 44/50\n",
            "421/421 [==============================] - 7s 16ms/step - loss: 0.3099 - accuracy: 0.8849 - val_loss: 0.2514 - val_accuracy: 0.9056\n",
            "Epoch 45/50\n",
            "421/421 [==============================] - 7s 16ms/step - loss: 0.2975 - accuracy: 0.8912 - val_loss: 0.2290 - val_accuracy: 0.9288\n",
            "Epoch 46/50\n",
            "421/421 [==============================] - 7s 16ms/step - loss: 0.2884 - accuracy: 0.8933 - val_loss: 0.2229 - val_accuracy: 0.9302\n",
            "Epoch 47/50\n",
            "421/421 [==============================] - 7s 15ms/step - loss: 0.2888 - accuracy: 0.8945 - val_loss: 0.2283 - val_accuracy: 0.9205\n",
            "Epoch 48/50\n",
            "421/421 [==============================] - 7s 15ms/step - loss: 0.2820 - accuracy: 0.8966 - val_loss: 0.2233 - val_accuracy: 0.9202\n",
            "Epoch 49/50\n",
            "421/421 [==============================] - 7s 15ms/step - loss: 0.2718 - accuracy: 0.9011 - val_loss: 0.2044 - val_accuracy: 0.9478\n",
            "Epoch 50/50\n",
            "421/421 [==============================] - 7s 16ms/step - loss: 0.2922 - accuracy: 0.8913 - val_loss: 0.1998 - val_accuracy: 0.9428\n"
          ],
          "name": "stdout"
        }
      ]
    },
    {
      "cell_type": "code",
      "metadata": {
        "id": "Yj8UbRdN7TAZ"
      },
      "source": [
        "def plot_history(history):\n",
        "    \n",
        "    f, ax = plt.subplots(1, 2, figsize = (16, 7))\n",
        "    \n",
        "    acc = history.history['accuracy']\n",
        "    val_acc = history.history['val_accuracy']\n",
        "    loss = history.history['loss']\n",
        "    val_loss = history.history['val_loss']\n",
        "\n",
        "    epochs = range(1, len(acc) + 1)\n",
        "\n",
        "    plt.sca(ax[0])\n",
        "    plt.plot(epochs, acc, 'bo', label='Training acc')\n",
        "    plt.plot(epochs, val_acc, 'b', label='Validation acc')\n",
        "    plt.title('Training and validation accuracy')\n",
        "    plt.legend()\n",
        "\n",
        "    plt.sca(ax[1])\n",
        "    plt.plot(epochs, loss, 'bo', label='Training loss')\n",
        "    plt.plot(epochs, val_loss, 'b', label='Validation loss')\n",
        "    plt.title('Training and validation loss')\n",
        "    plt.legend()\n",
        "\n",
        "    plt.show()"
      ],
      "execution_count": 22,
      "outputs": []
    },
    {
      "cell_type": "code",
      "metadata": {
        "colab": {
          "base_uri": "https://localhost:8080/",
          "height": 444
        },
        "id": "H3oU9Gyy7Zu-",
        "outputId": "6484556c-ce1e-4fb4-c6cd-7db49541388a"
      },
      "source": [
        "plot_history(history)"
      ],
      "execution_count": 23,
      "outputs": [
        {
          "output_type": "display_data",
          "data": {
            "image/png": "[encoded data removed]",
            "text/plain": [
              "<Figure size 1152x504 with 2 Axes>"
            ]
          },
          "metadata": {
            "tags": [],
            "needs_background": "light"
          }
        }
      ]
    },
    {
      "cell_type": "code",
      "metadata": {
        "colab": {
          "base_uri": "https://localhost:8080/"
        },
        "id": "kTyMCJwi71uA",
        "outputId": "7b0116f9-ec28-48bd-8b14-a778a6b455d5"
      },
      "source": [
        "model.predict(['im feeling sick'])"
      ],
      "execution_count": 24,
      "outputs": [
        {
          "output_type": "execute_result",
          "data": {
            "text/plain": [
              "array([[9.9235958e-01, 2.3562816e-04, 7.4048019e-03]], dtype=float32)"
            ]
          },
          "metadata": {
            "tags": []
          },
          "execution_count": 24
        }
      ]
    },
    {
      "cell_type": "code",
      "metadata": {
        "colab": {
          "base_uri": "https://localhost:8080/"
        },
        "id": "7kJ0L5BT7Ma4",
        "outputId": "d226301e-311e-4e67-ece2-f9701f3a91bb"
      },
      "source": [
        "model.predict(['im feeling bad'])"
      ],
      "execution_count": 15,
      "outputs": [
        {
          "output_type": "execute_result",
          "data": {
            "text/plain": [
              "array([[0.5181459 , 0.15281764, 0.3290365 ]], dtype=float32)"
            ]
          },
          "metadata": {
            "tags": []
          },
          "execution_count": 15
        }
      ]
    }
  ]
}