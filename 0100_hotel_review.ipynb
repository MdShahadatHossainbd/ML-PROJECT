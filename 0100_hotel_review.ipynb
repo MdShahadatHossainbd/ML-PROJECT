{
  "nbformat": 4,
  "nbformat_minor": 0,
  "metadata": {
    "colab": {
      "name": "0100 hotel review.ipynb",
      "provenance": [],
      "authorship_tag": "ABX9TyNsmjldqCpvSr0T6gEhSHq7",
      "include_colab_link": true
    },
    "kernelspec": {
      "name": "python3",
      "display_name": "Python 3"
    }
  },
  "cells": [
    {
      "cell_type": "markdown",
      "metadata": {
        "id": "view-in-github",
        "colab_type": "text"
      },
      "source": [
        "<a href=\"https://colab.research.google.com/github/MdShahadatHossainbd/ML-Project/blob/main/0100_hotel_review.ipynb\" target=\"_parent\"><img src=\"https://colab.research.google.com/assets/colab-badge.svg\" alt=\"Open In Colab\"/></a>"
      ]
    },
    {
      "cell_type": "code",
      "metadata": {
        "colab": {
          "base_uri": "https://localhost:8080/"
        },
        "id": "Sy2XMmoM4X1Z",
        "outputId": "1d3349c6-ae35-47e9-ecdb-0c7292c9fb02"
      },
      "source": [
        "from google.colab import drive\n",
        "drive.mount('/content/gdrive')"
      ],
      "execution_count": 2,
      "outputs": [
        {
          "output_type": "stream",
          "text": [
            "Mounted at /content/gdrive\n"
          ],
          "name": "stdout"
        }
      ]
    },
    {
      "cell_type": "code",
      "metadata": {
        "id": "QY5nafZB25q3"
      },
      "source": [
        "import pandas as pd\n",
        "import matplotlib.pyplot as plt\n",
        "%matplotlib inline"
      ],
      "execution_count": 24,
      "outputs": []
    },
    {
      "cell_type": "code",
      "metadata": {
        "id": "93Zu2bDI54dv"
      },
      "source": [
        "data = pd.read_csv('/content/gdrive/MyDrive/train.csv')"
      ],
      "execution_count": 25,
      "outputs": []
    },
    {
      "cell_type": "code",
      "metadata": {
        "colab": {
          "base_uri": "https://localhost:8080/"
        },
        "id": "SgZYmXa52_Pb",
        "outputId": "feed637f-0059-45b9-8788-29030589438d"
      },
      "source": [
        "data.shape"
      ],
      "execution_count": 26,
      "outputs": [
        {
          "output_type": "execute_result",
          "data": {
            "text/plain": [
              "(38932, 5)"
            ]
          },
          "metadata": {
            "tags": []
          },
          "execution_count": 26
        }
      ]
    },
    {
      "cell_type": "code",
      "metadata": {
        "colab": {
          "base_uri": "https://localhost:8080/",
          "height": 206
        },
        "id": "Xf0cNfeL3G57",
        "outputId": "a61b73c3-07ea-452c-f765-b804115890f0"
      },
      "source": [
        "data.head()"
      ],
      "execution_count": 27,
      "outputs": [
        {
          "output_type": "execute_result",
          "data": {
            "text/html": [
              "<div>\n",
              "<style scoped>\n",
              "    .dataframe tbody tr th:only-of-type {\n",
              "        vertical-align: middle;\n",
              "    }\n",
              "\n",
              "    .dataframe tbody tr th {\n",
              "        vertical-align: top;\n",
              "    }\n",
              "\n",
              "    .dataframe thead th {\n",
              "        text-align: right;\n",
              "    }\n",
              "</style>\n",
              "<table border=\"1\" class=\"dataframe\">\n",
              "  <thead>\n",
              "    <tr style=\"text-align: right;\">\n",
              "      <th></th>\n",
              "      <th>User_ID</th>\n",
              "      <th>Description</th>\n",
              "      <th>Browser_Used</th>\n",
              "      <th>Device_Used</th>\n",
              "      <th>Is_Response</th>\n",
              "    </tr>\n",
              "  </thead>\n",
              "  <tbody>\n",
              "    <tr>\n",
              "      <th>0</th>\n",
              "      <td>id10326</td>\n",
              "      <td>The room was kind of clean but had a VERY stro...</td>\n",
              "      <td>Edge</td>\n",
              "      <td>Mobile</td>\n",
              "      <td>not happy</td>\n",
              "    </tr>\n",
              "    <tr>\n",
              "      <th>1</th>\n",
              "      <td>id10327</td>\n",
              "      <td>I stayed at the Crown Plaza April -- - April -...</td>\n",
              "      <td>Internet Explorer</td>\n",
              "      <td>Mobile</td>\n",
              "      <td>not happy</td>\n",
              "    </tr>\n",
              "    <tr>\n",
              "      <th>2</th>\n",
              "      <td>id10328</td>\n",
              "      <td>I booked this hotel through Hotwire at the low...</td>\n",
              "      <td>Mozilla</td>\n",
              "      <td>Tablet</td>\n",
              "      <td>not happy</td>\n",
              "    </tr>\n",
              "    <tr>\n",
              "      <th>3</th>\n",
              "      <td>id10329</td>\n",
              "      <td>Stayed here with husband and sons on the way t...</td>\n",
              "      <td>InternetExplorer</td>\n",
              "      <td>Desktop</td>\n",
              "      <td>happy</td>\n",
              "    </tr>\n",
              "    <tr>\n",
              "      <th>4</th>\n",
              "      <td>id10330</td>\n",
              "      <td>My girlfriends and I stayed here to celebrate ...</td>\n",
              "      <td>Edge</td>\n",
              "      <td>Tablet</td>\n",
              "      <td>not happy</td>\n",
              "    </tr>\n",
              "  </tbody>\n",
              "</table>\n",
              "</div>"
            ],
            "text/plain": [
              "   User_ID  ... Is_Response\n",
              "0  id10326  ...   not happy\n",
              "1  id10327  ...   not happy\n",
              "2  id10328  ...   not happy\n",
              "3  id10329  ...       happy\n",
              "4  id10330  ...   not happy\n",
              "\n",
              "[5 rows x 5 columns]"
            ]
          },
          "metadata": {
            "tags": []
          },
          "execution_count": 27
        }
      ]
    },
    {
      "cell_type": "code",
      "metadata": {
        "colab": {
          "base_uri": "https://localhost:8080/"
        },
        "id": "lAq79tZc3NGq",
        "outputId": "36516c9f-717e-4b5a-f835-279f1060162a"
      },
      "source": [
        "data.info()"
      ],
      "execution_count": 28,
      "outputs": [
        {
          "output_type": "stream",
          "text": [
            "<class 'pandas.core.frame.DataFrame'>\n",
            "RangeIndex: 38932 entries, 0 to 38931\n",
            "Data columns (total 5 columns):\n",
            " #   Column        Non-Null Count  Dtype \n",
            "---  ------        --------------  ----- \n",
            " 0   User_ID       38932 non-null  object\n",
            " 1   Description   38932 non-null  object\n",
            " 2   Browser_Used  38932 non-null  object\n",
            " 3   Device_Used   38932 non-null  object\n",
            " 4   Is_Response   38932 non-null  object\n",
            "dtypes: object(5)\n",
            "memory usage: 1.5+ MB\n"
          ],
          "name": "stdout"
        }
      ]
    },
    {
      "cell_type": "code",
      "metadata": {
        "colab": {
          "base_uri": "https://localhost:8080/",
          "height": 206
        },
        "id": "gBjk6BMV3Pxn",
        "outputId": "9a16b26a-99d7-4cc5-e8ed-8c9edffbcab5"
      },
      "source": [
        "data.describe().transpose()"
      ],
      "execution_count": 29,
      "outputs": [
        {
          "output_type": "execute_result",
          "data": {
            "text/html": [
              "<div>\n",
              "<style scoped>\n",
              "    .dataframe tbody tr th:only-of-type {\n",
              "        vertical-align: middle;\n",
              "    }\n",
              "\n",
              "    .dataframe tbody tr th {\n",
              "        vertical-align: top;\n",
              "    }\n",
              "\n",
              "    .dataframe thead th {\n",
              "        text-align: right;\n",
              "    }\n",
              "</style>\n",
              "<table border=\"1\" class=\"dataframe\">\n",
              "  <thead>\n",
              "    <tr style=\"text-align: right;\">\n",
              "      <th></th>\n",
              "      <th>count</th>\n",
              "      <th>unique</th>\n",
              "      <th>top</th>\n",
              "      <th>freq</th>\n",
              "    </tr>\n",
              "  </thead>\n",
              "  <tbody>\n",
              "    <tr>\n",
              "      <th>User_ID</th>\n",
              "      <td>38932</td>\n",
              "      <td>38932</td>\n",
              "      <td>id22523</td>\n",
              "      <td>1</td>\n",
              "    </tr>\n",
              "    <tr>\n",
              "      <th>Description</th>\n",
              "      <td>38932</td>\n",
              "      <td>38932</td>\n",
              "      <td>We have stayed at a few Kimpton hotels, all of...</td>\n",
              "      <td>1</td>\n",
              "    </tr>\n",
              "    <tr>\n",
              "      <th>Browser_Used</th>\n",
              "      <td>38932</td>\n",
              "      <td>11</td>\n",
              "      <td>Firefox</td>\n",
              "      <td>7367</td>\n",
              "    </tr>\n",
              "    <tr>\n",
              "      <th>Device_Used</th>\n",
              "      <td>38932</td>\n",
              "      <td>3</td>\n",
              "      <td>Desktop</td>\n",
              "      <td>15026</td>\n",
              "    </tr>\n",
              "    <tr>\n",
              "      <th>Is_Response</th>\n",
              "      <td>38932</td>\n",
              "      <td>2</td>\n",
              "      <td>happy</td>\n",
              "      <td>26521</td>\n",
              "    </tr>\n",
              "  </tbody>\n",
              "</table>\n",
              "</div>"
            ],
            "text/plain": [
              "              count  ...   freq\n",
              "User_ID       38932  ...      1\n",
              "Description   38932  ...      1\n",
              "Browser_Used  38932  ...   7367\n",
              "Device_Used   38932  ...  15026\n",
              "Is_Response   38932  ...  26521\n",
              "\n",
              "[5 rows x 4 columns]"
            ]
          },
          "metadata": {
            "tags": []
          },
          "execution_count": 29
        }
      ]
    },
    {
      "cell_type": "code",
      "metadata": {
        "colab": {
          "base_uri": "https://localhost:8080/",
          "height": 225
        },
        "id": "QinLnhJD3Wlj",
        "outputId": "7c673a30-58c2-412e-f0e0-b8adc57a6c8c"
      },
      "source": [
        "# Checking Missing values in the Data Set and printing the Percentage for Missing Values for Each Columns\n",
        "count = data.isnull().sum().sort_values(ascending=False)\n",
        "percentage = ((data.isnull().sum()/len(data)*100)).sort_values(ascending=False)\n",
        "missing_data = pd.concat([count, percentage], axis=1,\n",
        "keys=['Count','Percentage'])\n",
        "\n",
        "print('Count and percentage of missing values for the columns:')\n",
        "\n",
        "missing_data"
      ],
      "execution_count": 30,
      "outputs": [
        {
          "output_type": "stream",
          "text": [
            "Count and percentage of missing values for the columns:\n"
          ],
          "name": "stdout"
        },
        {
          "output_type": "execute_result",
          "data": {
            "text/html": [
              "<div>\n",
              "<style scoped>\n",
              "    .dataframe tbody tr th:only-of-type {\n",
              "        vertical-align: middle;\n",
              "    }\n",
              "\n",
              "    .dataframe tbody tr th {\n",
              "        vertical-align: top;\n",
              "    }\n",
              "\n",
              "    .dataframe thead th {\n",
              "        text-align: right;\n",
              "    }\n",
              "</style>\n",
              "<table border=\"1\" class=\"dataframe\">\n",
              "  <thead>\n",
              "    <tr style=\"text-align: right;\">\n",
              "      <th></th>\n",
              "      <th>Count</th>\n",
              "      <th>Percentage</th>\n",
              "    </tr>\n",
              "  </thead>\n",
              "  <tbody>\n",
              "    <tr>\n",
              "      <th>Is_Response</th>\n",
              "      <td>0</td>\n",
              "      <td>0.0</td>\n",
              "    </tr>\n",
              "    <tr>\n",
              "      <th>Device_Used</th>\n",
              "      <td>0</td>\n",
              "      <td>0.0</td>\n",
              "    </tr>\n",
              "    <tr>\n",
              "      <th>Browser_Used</th>\n",
              "      <td>0</td>\n",
              "      <td>0.0</td>\n",
              "    </tr>\n",
              "    <tr>\n",
              "      <th>Description</th>\n",
              "      <td>0</td>\n",
              "      <td>0.0</td>\n",
              "    </tr>\n",
              "    <tr>\n",
              "      <th>User_ID</th>\n",
              "      <td>0</td>\n",
              "      <td>0.0</td>\n",
              "    </tr>\n",
              "  </tbody>\n",
              "</table>\n",
              "</div>"
            ],
            "text/plain": [
              "              Count  Percentage\n",
              "Is_Response       0         0.0\n",
              "Device_Used       0         0.0\n",
              "Browser_Used      0         0.0\n",
              "Description       0         0.0\n",
              "User_ID           0         0.0"
            ]
          },
          "metadata": {
            "tags": []
          },
          "execution_count": 30
        }
      ]
    },
    {
      "cell_type": "code",
      "metadata": {
        "colab": {
          "base_uri": "https://localhost:8080/",
          "height": 418
        },
        "id": "DLTZtQSF3XW_",
        "outputId": "da1fe9de-e303-405b-88b4-dde8565a26bd"
      },
      "source": [
        "# Checking for the Distribution of Default \n",
        "print('Percentage for default\\n')\n",
        "print(round(data.Is_Response.value_counts(normalize=True)*100,2))\n",
        "round(data.Is_Response.value_counts(normalize=True)*100,2).plot(kind='bar')\n",
        "plt.title('Percentage Distributions by review type')\n",
        "plt.show()"
      ],
      "execution_count": 31,
      "outputs": [
        {
          "output_type": "stream",
          "text": [
            "Percentage for default\n",
            "\n",
            "happy        68.12\n",
            "not happy    31.88\n",
            "Name: Is_Response, dtype: float64\n"
          ],
          "name": "stdout"
        },
        {
          "output_type": "display_data",
          "data": {
            "image/png": "[encoded data removed]",
            "text/plain": [
              "<Figure size 432x288 with 1 Axes>"
            ]
          },
          "metadata": {
            "tags": [],
            "needs_background": "light"
          }
        }
      ]
    },
    {
      "cell_type": "code",
      "metadata": {
        "id": "BizgSb8O3a2V"
      },
      "source": [
        "#Removing columns\n",
        "data.drop(columns = ['User_ID', 'Browser_Used', 'Device_Used'], inplace = True)"
      ],
      "execution_count": 32,
      "outputs": []
    },
    {
      "cell_type": "code",
      "metadata": {
        "id": "-vGMYdlF3g8D"
      },
      "source": [
        "# Apply first level cleaning\n",
        "import re\n",
        "import string\n",
        "\n",
        "#This function converts to lower-case, removes square bracket, removes numbers and punctuation\n",
        "def text_clean_1(text):\n",
        "    text = text.lower()\n",
        "    text = re.sub('\\[.*?\\]', '', text)\n",
        "    text = re.sub('[%s]' % re.escape(string.punctuation), '', text)\n",
        "    text = re.sub('\\w*\\d\\w*', '', text)\n",
        "    return text\n",
        "\n",
        "cleaned1 = lambda x: text_clean_1(x)"
      ],
      "execution_count": 33,
      "outputs": []
    },
    {
      "cell_type": "code",
      "metadata": {
        "colab": {
          "base_uri": "https://localhost:8080/",
          "height": 363
        },
        "id": "8SwQ6Utf3h8b",
        "outputId": "8367f9d4-d3c0-40aa-a236-5d50bfd2531a"
      },
      "source": [
        "# Let's take a look at the updated text\n",
        "data['cleaned_description'] = pd.DataFrame(data.Description.apply(cleaned1))\n",
        "data.head(10)"
      ],
      "execution_count": 34,
      "outputs": [
        {
          "output_type": "execute_result",
          "data": {
            "text/html": [
              "<div>\n",
              "<style scoped>\n",
              "    .dataframe tbody tr th:only-of-type {\n",
              "        vertical-align: middle;\n",
              "    }\n",
              "\n",
              "    .dataframe tbody tr th {\n",
              "        vertical-align: top;\n",
              "    }\n",
              "\n",
              "    .dataframe thead th {\n",
              "        text-align: right;\n",
              "    }\n",
              "</style>\n",
              "<table border=\"1\" class=\"dataframe\">\n",
              "  <thead>\n",
              "    <tr style=\"text-align: right;\">\n",
              "      <th></th>\n",
              "      <th>Description</th>\n",
              "      <th>Is_Response</th>\n",
              "      <th>cleaned_description</th>\n",
              "    </tr>\n",
              "  </thead>\n",
              "  <tbody>\n",
              "    <tr>\n",
              "      <th>0</th>\n",
              "      <td>The room was kind of clean but had a VERY stro...</td>\n",
              "      <td>not happy</td>\n",
              "      <td>the room was kind of clean but had a very stro...</td>\n",
              "    </tr>\n",
              "    <tr>\n",
              "      <th>1</th>\n",
              "      <td>I stayed at the Crown Plaza April -- - April -...</td>\n",
              "      <td>not happy</td>\n",
              "      <td>i stayed at the crown plaza april   april   th...</td>\n",
              "    </tr>\n",
              "    <tr>\n",
              "      <th>2</th>\n",
              "      <td>I booked this hotel through Hotwire at the low...</td>\n",
              "      <td>not happy</td>\n",
              "      <td>i booked this hotel through hotwire at the low...</td>\n",
              "    </tr>\n",
              "    <tr>\n",
              "      <th>3</th>\n",
              "      <td>Stayed here with husband and sons on the way t...</td>\n",
              "      <td>happy</td>\n",
              "      <td>stayed here with husband and sons on the way t...</td>\n",
              "    </tr>\n",
              "    <tr>\n",
              "      <th>4</th>\n",
              "      <td>My girlfriends and I stayed here to celebrate ...</td>\n",
              "      <td>not happy</td>\n",
              "      <td>my girlfriends and i stayed here to celebrate ...</td>\n",
              "    </tr>\n",
              "    <tr>\n",
              "      <th>5</th>\n",
              "      <td>We had - rooms. One was very nice and clearly ...</td>\n",
              "      <td>happy</td>\n",
              "      <td>we had  rooms one was very nice and clearly ha...</td>\n",
              "    </tr>\n",
              "    <tr>\n",
              "      <th>6</th>\n",
              "      <td>My husband and I have stayed in this hotel a f...</td>\n",
              "      <td>not happy</td>\n",
              "      <td>my husband and i have stayed in this hotel a f...</td>\n",
              "    </tr>\n",
              "    <tr>\n",
              "      <th>7</th>\n",
              "      <td>My wife &amp; I stayed in this glorious city a whi...</td>\n",
              "      <td>happy</td>\n",
              "      <td>my wife  i stayed in this glorious city a whil...</td>\n",
              "    </tr>\n",
              "    <tr>\n",
              "      <th>8</th>\n",
              "      <td>My boyfriend and I stayed at the Fairmont on a...</td>\n",
              "      <td>happy</td>\n",
              "      <td>my boyfriend and i stayed at the fairmont on a...</td>\n",
              "    </tr>\n",
              "    <tr>\n",
              "      <th>9</th>\n",
              "      <td>Wonderful staff, great location, but it was de...</td>\n",
              "      <td>not happy</td>\n",
              "      <td>wonderful staff great location but it was defi...</td>\n",
              "    </tr>\n",
              "  </tbody>\n",
              "</table>\n",
              "</div>"
            ],
            "text/plain": [
              "                                         Description  ...                                cleaned_description\n",
              "0  The room was kind of clean but had a VERY stro...  ...  the room was kind of clean but had a very stro...\n",
              "1  I stayed at the Crown Plaza April -- - April -...  ...  i stayed at the crown plaza april   april   th...\n",
              "2  I booked this hotel through Hotwire at the low...  ...  i booked this hotel through hotwire at the low...\n",
              "3  Stayed here with husband and sons on the way t...  ...  stayed here with husband and sons on the way t...\n",
              "4  My girlfriends and I stayed here to celebrate ...  ...  my girlfriends and i stayed here to celebrate ...\n",
              "5  We had - rooms. One was very nice and clearly ...  ...  we had  rooms one was very nice and clearly ha...\n",
              "6  My husband and I have stayed in this hotel a f...  ...  my husband and i have stayed in this hotel a f...\n",
              "7  My wife & I stayed in this glorious city a whi...  ...  my wife  i stayed in this glorious city a whil...\n",
              "8  My boyfriend and I stayed at the Fairmont on a...  ...  my boyfriend and i stayed at the fairmont on a...\n",
              "9  Wonderful staff, great location, but it was de...  ...  wonderful staff great location but it was defi...\n",
              "\n",
              "[10 rows x 3 columns]"
            ]
          },
          "metadata": {
            "tags": []
          },
          "execution_count": 34
        }
      ]
    },
    {
      "cell_type": "code",
      "metadata": {
        "id": "if6srm8i3kZG"
      },
      "source": [
        "# Apply a second round of cleaning\n",
        "def text_clean_2(text):\n",
        "    text = re.sub('[‘’“”…]', '', text)\n",
        "    text = re.sub('\\n', '', text)\n",
        "    return text\n",
        "\n",
        "cleaned2 = lambda x: text_clean_2(x)"
      ],
      "execution_count": 35,
      "outputs": []
    },
    {
      "cell_type": "code",
      "metadata": {
        "colab": {
          "base_uri": "https://localhost:8080/",
          "height": 537
        },
        "id": "b4rFFrGX3nMq",
        "outputId": "365647e2-cf26-4a4f-9400-b955eeca0a75"
      },
      "source": [
        "# Let's take a look at the updated text\n",
        "data['cleaned_description_new'] = pd.DataFrame(data['cleaned_description'].apply(cleaned2))\n",
        "data.head(10)"
      ],
      "execution_count": 36,
      "outputs": [
        {
          "output_type": "execute_result",
          "data": {
            "text/html": [
              "<div>\n",
              "<style scoped>\n",
              "    .dataframe tbody tr th:only-of-type {\n",
              "        vertical-align: middle;\n",
              "    }\n",
              "\n",
              "    .dataframe tbody tr th {\n",
              "        vertical-align: top;\n",
              "    }\n",
              "\n",
              "    .dataframe thead th {\n",
              "        text-align: right;\n",
              "    }\n",
              "</style>\n",
              "<table border=\"1\" class=\"dataframe\">\n",
              "  <thead>\n",
              "    <tr style=\"text-align: right;\">\n",
              "      <th></th>\n",
              "      <th>Description</th>\n",
              "      <th>Is_Response</th>\n",
              "      <th>cleaned_description</th>\n",
              "      <th>cleaned_description_new</th>\n",
              "    </tr>\n",
              "  </thead>\n",
              "  <tbody>\n",
              "    <tr>\n",
              "      <th>0</th>\n",
              "      <td>The room was kind of clean but had a VERY stro...</td>\n",
              "      <td>not happy</td>\n",
              "      <td>the room was kind of clean but had a very stro...</td>\n",
              "      <td>the room was kind of clean but had a very stro...</td>\n",
              "    </tr>\n",
              "    <tr>\n",
              "      <th>1</th>\n",
              "      <td>I stayed at the Crown Plaza April -- - April -...</td>\n",
              "      <td>not happy</td>\n",
              "      <td>i stayed at the crown plaza april   april   th...</td>\n",
              "      <td>i stayed at the crown plaza april   april   th...</td>\n",
              "    </tr>\n",
              "    <tr>\n",
              "      <th>2</th>\n",
              "      <td>I booked this hotel through Hotwire at the low...</td>\n",
              "      <td>not happy</td>\n",
              "      <td>i booked this hotel through hotwire at the low...</td>\n",
              "      <td>i booked this hotel through hotwire at the low...</td>\n",
              "    </tr>\n",
              "    <tr>\n",
              "      <th>3</th>\n",
              "      <td>Stayed here with husband and sons on the way t...</td>\n",
              "      <td>happy</td>\n",
              "      <td>stayed here with husband and sons on the way t...</td>\n",
              "      <td>stayed here with husband and sons on the way t...</td>\n",
              "    </tr>\n",
              "    <tr>\n",
              "      <th>4</th>\n",
              "      <td>My girlfriends and I stayed here to celebrate ...</td>\n",
              "      <td>not happy</td>\n",
              "      <td>my girlfriends and i stayed here to celebrate ...</td>\n",
              "      <td>my girlfriends and i stayed here to celebrate ...</td>\n",
              "    </tr>\n",
              "    <tr>\n",
              "      <th>5</th>\n",
              "      <td>We had - rooms. One was very nice and clearly ...</td>\n",
              "      <td>happy</td>\n",
              "      <td>we had  rooms one was very nice and clearly ha...</td>\n",
              "      <td>we had  rooms one was very nice and clearly ha...</td>\n",
              "    </tr>\n",
              "    <tr>\n",
              "      <th>6</th>\n",
              "      <td>My husband and I have stayed in this hotel a f...</td>\n",
              "      <td>not happy</td>\n",
              "      <td>my husband and i have stayed in this hotel a f...</td>\n",
              "      <td>my husband and i have stayed in this hotel a f...</td>\n",
              "    </tr>\n",
              "    <tr>\n",
              "      <th>7</th>\n",
              "      <td>My wife &amp; I stayed in this glorious city a whi...</td>\n",
              "      <td>happy</td>\n",
              "      <td>my wife  i stayed in this glorious city a whil...</td>\n",
              "      <td>my wife  i stayed in this glorious city a whil...</td>\n",
              "    </tr>\n",
              "    <tr>\n",
              "      <th>8</th>\n",
              "      <td>My boyfriend and I stayed at the Fairmont on a...</td>\n",
              "      <td>happy</td>\n",
              "      <td>my boyfriend and i stayed at the fairmont on a...</td>\n",
              "      <td>my boyfriend and i stayed at the fairmont on a...</td>\n",
              "    </tr>\n",
              "    <tr>\n",
              "      <th>9</th>\n",
              "      <td>Wonderful staff, great location, but it was de...</td>\n",
              "      <td>not happy</td>\n",
              "      <td>wonderful staff great location but it was defi...</td>\n",
              "      <td>wonderful staff great location but it was defi...</td>\n",
              "    </tr>\n",
              "  </tbody>\n",
              "</table>\n",
              "</div>"
            ],
            "text/plain": [
              "                                         Description  ...                            cleaned_description_new\n",
              "0  The room was kind of clean but had a VERY stro...  ...  the room was kind of clean but had a very stro...\n",
              "1  I stayed at the Crown Plaza April -- - April -...  ...  i stayed at the crown plaza april   april   th...\n",
              "2  I booked this hotel through Hotwire at the low...  ...  i booked this hotel through hotwire at the low...\n",
              "3  Stayed here with husband and sons on the way t...  ...  stayed here with husband and sons on the way t...\n",
              "4  My girlfriends and I stayed here to celebrate ...  ...  my girlfriends and i stayed here to celebrate ...\n",
              "5  We had - rooms. One was very nice and clearly ...  ...  we had  rooms one was very nice and clearly ha...\n",
              "6  My husband and I have stayed in this hotel a f...  ...  my husband and i have stayed in this hotel a f...\n",
              "7  My wife & I stayed in this glorious city a whi...  ...  my wife  i stayed in this glorious city a whil...\n",
              "8  My boyfriend and I stayed at the Fairmont on a...  ...  my boyfriend and i stayed at the fairmont on a...\n",
              "9  Wonderful staff, great location, but it was de...  ...  wonderful staff great location but it was defi...\n",
              "\n",
              "[10 rows x 4 columns]"
            ]
          },
          "metadata": {
            "tags": []
          },
          "execution_count": 36
        }
      ]
    },
    {
      "cell_type": "code",
      "metadata": {
        "colab": {
          "base_uri": "https://localhost:8080/"
        },
        "id": "p1JvaLxq8LXi",
        "outputId": "4636d45c-97c9-43c4-a366-98d61d353504"
      },
      "source": [
        "data.columns"
      ],
      "execution_count": 37,
      "outputs": [
        {
          "output_type": "execute_result",
          "data": {
            "text/plain": [
              "Index(['Description', 'Is_Response', 'cleaned_description',\n",
              "       'cleaned_description_new'],\n",
              "      dtype='object')"
            ]
          },
          "metadata": {
            "tags": []
          },
          "execution_count": 37
        }
      ]
    },
    {
      "cell_type": "code",
      "metadata": {
        "colab": {
          "base_uri": "https://localhost:8080/"
        },
        "id": "w0wCgK1l3qUi",
        "outputId": "92d97f37-7a1a-47bf-f7c1-0115ed27d059"
      },
      "source": [
        "# Model training\n",
        "from sklearn.model_selection import train_test_split\n",
        "\n",
        "Independent_var = data.cleaned_description_new\n",
        "Dependent_var = data.Is_Response\n",
        "\n",
        "X_train, X_test, Y_train, Y_test = train_test_split(Independent_var, Dependent_var, test_size = 0.20, random_state = 225)\n",
        "\n",
        "print('X_train :', len(X_train))\n",
        "print('X_test  :', len(X_test))\n",
        "print('Y_train :', len(Y_train))\n",
        "print('Y_test  :', len(Y_test))\n"
      ],
      "execution_count": 38,
      "outputs": [
        {
          "output_type": "stream",
          "text": [
            "X_train : 31145\n",
            "X_test  : 7787\n",
            "Y_train : 31145\n",
            "Y_test  : 7787\n"
          ],
          "name": "stdout"
        }
      ]
    },
    {
      "cell_type": "code",
      "metadata": {
        "id": "OxIagobw3vzQ"
      },
      "source": [
        "from sklearn.feature_extraction.text import TfidfVectorizer\n",
        "from sklearn.linear_model import LogisticRegression\n",
        "\n",
        "tvec = TfidfVectorizer()\n",
        "clf2 = LogisticRegression(solver = \"lbfgs\")\n",
        "\n",
        "\n",
        "from sklearn.pipeline import Pipeline"
      ],
      "execution_count": 39,
      "outputs": []
    },
    {
      "cell_type": "code",
      "metadata": {
        "colab": {
          "base_uri": "https://localhost:8080/"
        },
        "id": "pZRovYIt3ya0",
        "outputId": "b895f53a-2bea-4d8c-d354-6cfcda6af472"
      },
      "source": [
        "model = Pipeline([('vectorizer',tvec),('classifier',clf2)])\n",
        "\n",
        "model.fit(X_train, Y_train)\n",
        "\n",
        "\n",
        "from sklearn.metrics import confusion_matrix\n",
        "\n",
        "predictions = model.predict(X_test)\n",
        "\n",
        "confusion_matrix(predictions, Y_test)"
      ],
      "execution_count": 40,
      "outputs": [
        {
          "output_type": "execute_result",
          "data": {
            "text/plain": [
              "array([[4953,  602],\n",
              "       [ 298, 1934]])"
            ]
          },
          "metadata": {
            "tags": []
          },
          "execution_count": 40
        }
      ]
    },
    {
      "cell_type": "code",
      "metadata": {
        "colab": {
          "base_uri": "https://localhost:8080/"
        },
        "id": "Z--n09Wr310u",
        "outputId": "d39f88f0-5e58-47f9-e397-9f72573fa7ff"
      },
      "source": [
        "#Model prediciton\n",
        "from sklearn.metrics import accuracy_score, precision_score, recall_score\n",
        "\n",
        "print(\"Accuracy : \", accuracy_score(predictions, Y_test))\n",
        "print(\"Precision : \", precision_score(predictions, Y_test, average = 'weighted'))\n",
        "print(\"Recall : \", recall_score(predictions, Y_test, average = 'weighted'))"
      ],
      "execution_count": 41,
      "outputs": [
        {
          "output_type": "stream",
          "text": [
            "Accuracy :  0.8844227558751766\n",
            "Precision :  0.8914744709086833\n",
            "Recall :  0.8844227558751766\n"
          ],
          "name": "stdout"
        }
      ]
    },
    {
      "cell_type": "code",
      "metadata": {
        "colab": {
          "base_uri": "https://localhost:8080/"
        },
        "id": "zN_1cvIJ35G2",
        "outputId": "3293e89a-b87c-40b6-efaa-292f2f7c7f46"
      },
      "source": [
        "#new reviews\n",
        "example = [\"This hotel must improve service\"]\n",
        "result = model.predict(example)\n",
        "\n",
        "print(result)"
      ],
      "execution_count": 42,
      "outputs": [
        {
          "output_type": "stream",
          "text": [
            "['not happy']\n"
          ],
          "name": "stdout"
        }
      ]
    },
    {
      "cell_type": "code",
      "metadata": {
        "colab": {
          "base_uri": "https://localhost:8080/"
        },
        "id": "dckFK6c_61fp",
        "outputId": "f2b54282-05f5-4ce4-81db-1c485851ca73"
      },
      "source": [
        "#new reviews\n",
        "example = [\"I'm happy\"]\n",
        "result = model.predict(example)\n",
        "\n",
        "print(result)"
      ],
      "execution_count": 43,
      "outputs": [
        {
          "output_type": "stream",
          "text": [
            "['happy']\n"
          ],
          "name": "stdout"
        }
      ]
    }
  ]
}