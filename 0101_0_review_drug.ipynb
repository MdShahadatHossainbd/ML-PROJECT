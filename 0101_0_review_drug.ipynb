{
  "nbformat": 4,
  "nbformat_minor": 0,
  "metadata": {
    "colab": {
      "name": "0101.0 review drug.ipynb",
      "provenance": [],
      "authorship_tag": "ABX9TyPmkEzMqVncvgi7ZTs33Y+B",
      "include_colab_link": true
    },
    "kernelspec": {
      "name": "python3",
      "display_name": "Python 3"
    }
  },
  "cells": [
    {
      "cell_type": "markdown",
      "metadata": {
        "id": "view-in-github",
        "colab_type": "text"
      },
      "source": [
        "<a href=\"https://colab.research.google.com/github/MdShahadatHossainbd/ML-Project/blob/main/0101_0_review_drug.ipynb\" target=\"_parent\"><img src=\"https://colab.research.google.com/assets/colab-badge.svg\" alt=\"Open In Colab\"/></a>"
      ]
    },
    {
      "cell_type": "code",
      "metadata": {
        "colab": {
          "base_uri": "https://localhost:8080/"
        },
        "id": "Z7072685AJSh",
        "outputId": "80fdc896-00e0-460f-adad-f17752c73495"
      },
      "source": [
        "from google.colab import drive\n",
        "drive.mount('/content/gdrive')"
      ],
      "execution_count": 26,
      "outputs": [
        {
          "output_type": "stream",
          "text": [
            "Drive already mounted at /content/gdrive; to attempt to forcibly remount, call drive.mount(\"/content/gdrive\", force_remount=True).\n"
          ],
          "name": "stdout"
        }
      ]
    },
    {
      "cell_type": "code",
      "metadata": {
        "id": "g-4ILaNpAOC3"
      },
      "source": [
        "#import all the necessary packages\n",
        "\n",
        "import matplotlib.pyplot as plt\n",
        "import numpy as np\n",
        "import pandas as pd\n",
        "import seaborn as sns\n",
        "%matplotlib inline\n",
        "from matplotlib import style\n",
        "style.use('ggplot')"
      ],
      "execution_count": null,
      "outputs": []
    },
    {
      "cell_type": "code",
      "metadata": {
        "id": "8aINtGAvAm5X"
      },
      "source": [
        "train = pd.read_csv('/content/gdrive/MyDrive/archive/drugsComTrain_raw.csv')\n",
        "test = pd.read_csv('/content/gdrive/MyDrive/archive/drugsComTest_raw.csv')"
      ],
      "execution_count": null,
      "outputs": []
    },
    {
      "cell_type": "code",
      "metadata": {
        "colab": {
          "base_uri": "https://localhost:8080/",
          "height": 702
        },
        "id": "ACw-4vXdBAyi",
        "outputId": "7e211fba-bedd-44b6-aad9-6a18bc5683e5"
      },
      "source": [
        "train.review"
      ],
      "execution_count": null,
      "outputs": [
        {
          "output_type": "execute_result",
          "data": {
            "text/html": [
              "<div>\n",
              "<style scoped>\n",
              "    .dataframe tbody tr th:only-of-type {\n",
              "        vertical-align: middle;\n",
              "    }\n",
              "\n",
              "    .dataframe tbody tr th {\n",
              "        vertical-align: top;\n",
              "    }\n",
              "\n",
              "    .dataframe thead th {\n",
              "        text-align: right;\n",
              "    }\n",
              "</style>\n",
              "<table border=\"1\" class=\"dataframe\">\n",
              "  <thead>\n",
              "    <tr style=\"text-align: right;\">\n",
              "      <th></th>\n",
              "      <th>uniqueID</th>\n",
              "      <th>drugName</th>\n",
              "      <th>condition</th>\n",
              "      <th>review</th>\n",
              "      <th>rating</th>\n",
              "      <th>date</th>\n",
              "      <th>usefulCount</th>\n",
              "    </tr>\n",
              "  </thead>\n",
              "  <tbody>\n",
              "    <tr>\n",
              "      <th>0</th>\n",
              "      <td>206461</td>\n",
              "      <td>Valsartan</td>\n",
              "      <td>Left Ventricular Dysfunction</td>\n",
              "      <td>\"It has no side effect, I take it in combinati...</td>\n",
              "      <td>9</td>\n",
              "      <td>20-May-12</td>\n",
              "      <td>27</td>\n",
              "    </tr>\n",
              "    <tr>\n",
              "      <th>1</th>\n",
              "      <td>95260</td>\n",
              "      <td>Guanfacine</td>\n",
              "      <td>ADHD</td>\n",
              "      <td>\"My son is halfway through his fourth week of ...</td>\n",
              "      <td>8</td>\n",
              "      <td>27-Apr-10</td>\n",
              "      <td>192</td>\n",
              "    </tr>\n",
              "    <tr>\n",
              "      <th>2</th>\n",
              "      <td>92703</td>\n",
              "      <td>Lybrel</td>\n",
              "      <td>Birth Control</td>\n",
              "      <td>\"I used to take another oral contraceptive, wh...</td>\n",
              "      <td>5</td>\n",
              "      <td>14-Dec-09</td>\n",
              "      <td>17</td>\n",
              "    </tr>\n",
              "    <tr>\n",
              "      <th>3</th>\n",
              "      <td>138000</td>\n",
              "      <td>Ortho Evra</td>\n",
              "      <td>Birth Control</td>\n",
              "      <td>\"This is my first time using any form of birth...</td>\n",
              "      <td>8</td>\n",
              "      <td>3-Nov-15</td>\n",
              "      <td>10</td>\n",
              "    </tr>\n",
              "    <tr>\n",
              "      <th>4</th>\n",
              "      <td>35696</td>\n",
              "      <td>Buprenorphine / naloxone</td>\n",
              "      <td>Opiate Dependence</td>\n",
              "      <td>\"Suboxone has completely turned my life around...</td>\n",
              "      <td>9</td>\n",
              "      <td>27-Nov-16</td>\n",
              "      <td>37</td>\n",
              "    </tr>\n",
              "    <tr>\n",
              "      <th>...</th>\n",
              "      <td>...</td>\n",
              "      <td>...</td>\n",
              "      <td>...</td>\n",
              "      <td>...</td>\n",
              "      <td>...</td>\n",
              "      <td>...</td>\n",
              "      <td>...</td>\n",
              "    </tr>\n",
              "    <tr>\n",
              "      <th>161292</th>\n",
              "      <td>191035</td>\n",
              "      <td>Campral</td>\n",
              "      <td>Alcohol Dependence</td>\n",
              "      <td>\"I wrote my first report in Mid-October of 201...</td>\n",
              "      <td>10</td>\n",
              "      <td>31-May-15</td>\n",
              "      <td>125</td>\n",
              "    </tr>\n",
              "    <tr>\n",
              "      <th>161293</th>\n",
              "      <td>127085</td>\n",
              "      <td>Metoclopramide</td>\n",
              "      <td>Nausea/Vomiting</td>\n",
              "      <td>\"I was given this in IV before surgey. I immed...</td>\n",
              "      <td>1</td>\n",
              "      <td>1-Nov-11</td>\n",
              "      <td>34</td>\n",
              "    </tr>\n",
              "    <tr>\n",
              "      <th>161294</th>\n",
              "      <td>187382</td>\n",
              "      <td>Orencia</td>\n",
              "      <td>Rheumatoid Arthritis</td>\n",
              "      <td>\"Limited improvement after 4 months, developed...</td>\n",
              "      <td>2</td>\n",
              "      <td>15-Mar-14</td>\n",
              "      <td>35</td>\n",
              "    </tr>\n",
              "    <tr>\n",
              "      <th>161295</th>\n",
              "      <td>47128</td>\n",
              "      <td>Thyroid desiccated</td>\n",
              "      <td>Underactive Thyroid</td>\n",
              "      <td>\"I&amp;#039;ve been on thyroid medication 49 years...</td>\n",
              "      <td>10</td>\n",
              "      <td>19-Sep-15</td>\n",
              "      <td>79</td>\n",
              "    </tr>\n",
              "    <tr>\n",
              "      <th>161296</th>\n",
              "      <td>215220</td>\n",
              "      <td>Lubiprostone</td>\n",
              "      <td>Constipation, Chronic</td>\n",
              "      <td>\"I&amp;#039;ve had chronic constipation all my adu...</td>\n",
              "      <td>9</td>\n",
              "      <td>13-Dec-14</td>\n",
              "      <td>116</td>\n",
              "    </tr>\n",
              "  </tbody>\n",
              "</table>\n",
              "<p>161297 rows × 7 columns</p>\n",
              "</div>"
            ],
            "text/plain": [
              "        uniqueID                  drugName  ...       date usefulCount\n",
              "0         206461                 Valsartan  ...  20-May-12          27\n",
              "1          95260                Guanfacine  ...  27-Apr-10         192\n",
              "2          92703                    Lybrel  ...  14-Dec-09          17\n",
              "3         138000                Ortho Evra  ...   3-Nov-15          10\n",
              "4          35696  Buprenorphine / naloxone  ...  27-Nov-16          37\n",
              "...          ...                       ...  ...        ...         ...\n",
              "161292    191035                   Campral  ...  31-May-15         125\n",
              "161293    127085            Metoclopramide  ...   1-Nov-11          34\n",
              "161294    187382                   Orencia  ...  15-Mar-14          35\n",
              "161295     47128        Thyroid desiccated  ...  19-Sep-15          79\n",
              "161296    215220              Lubiprostone  ...  13-Dec-14         116\n",
              "\n",
              "[161297 rows x 7 columns]"
            ]
          },
          "metadata": {
            "tags": []
          },
          "execution_count": 4
        }
      ]
    },
    {
      "cell_type": "code",
      "metadata": {
        "colab": {
          "base_uri": "https://localhost:8080/"
        },
        "id": "TJO_UGpRBIWw",
        "outputId": "fe047942-dc73-4c7b-d91c-3f11d42cb28d"
      },
      "source": [
        "#check the columns in train\n",
        "train.columns"
      ],
      "execution_count": null,
      "outputs": [
        {
          "output_type": "execute_result",
          "data": {
            "text/plain": [
              "Index(['uniqueID', 'drugName', 'condition', 'review', 'rating', 'date',\n",
              "       'usefulCount'],\n",
              "      dtype='object')"
            ]
          },
          "metadata": {
            "tags": []
          },
          "execution_count": 5
        }
      ]
    },
    {
      "cell_type": "code",
      "metadata": {
        "colab": {
          "base_uri": "https://localhost:8080/"
        },
        "id": "c9pyY0qpBJqy",
        "outputId": "f2dc42a2-79f5-4612-edf3-bd5cafda2675"
      },
      "source": [
        "#merge train and test data\n",
        "\n",
        "merge = [train,test]\n",
        "merged_data = pd.concat(merge,ignore_index=True)\n",
        "\n",
        "merged_data.shape   #check the shape of merged_data"
      ],
      "execution_count": null,
      "outputs": [
        {
          "output_type": "execute_result",
          "data": {
            "text/plain": [
              "(215063, 7)"
            ]
          },
          "metadata": {
            "tags": []
          },
          "execution_count": 6
        }
      ]
    },
    {
      "cell_type": "code",
      "metadata": {
        "colab": {
          "base_uri": "https://localhost:8080/"
        },
        "id": "BBDTE14HBNTS",
        "outputId": "41943327-9763-4cef-ba06-c0af1b633b2b"
      },
      "source": [
        "#check uniqueID\n",
        "merged_data['uniqueID'].nunique()"
      ],
      "execution_count": null,
      "outputs": [
        {
          "output_type": "execute_result",
          "data": {
            "text/plain": [
              "215063"
            ]
          },
          "metadata": {
            "tags": []
          },
          "execution_count": 7
        }
      ]
    },
    {
      "cell_type": "code",
      "metadata": {
        "colab": {
          "base_uri": "https://localhost:8080/"
        },
        "id": "a69apXN8BQvY",
        "outputId": "8d1e2636-d42b-4ca7-d29c-271fc9734f0c"
      },
      "source": [
        "merged_data.info()"
      ],
      "execution_count": null,
      "outputs": [
        {
          "output_type": "stream",
          "text": [
            "<class 'pandas.core.frame.DataFrame'>\n",
            "RangeIndex: 215063 entries, 0 to 215062\n",
            "Data columns (total 7 columns):\n",
            " #   Column       Non-Null Count   Dtype \n",
            "---  ------       --------------   ----- \n",
            " 0   uniqueID     215063 non-null  int64 \n",
            " 1   drugName     215063 non-null  object\n",
            " 2   condition    213869 non-null  object\n",
            " 3   review       215063 non-null  object\n",
            " 4   rating       215063 non-null  int64 \n",
            " 5   date         215063 non-null  object\n",
            " 6   usefulCount  215063 non-null  int64 \n",
            "dtypes: int64(3), object(4)\n",
            "memory usage: 11.5+ MB\n"
          ],
          "name": "stdout"
        }
      ]
    },
    {
      "cell_type": "code",
      "metadata": {
        "colab": {
          "base_uri": "https://localhost:8080/",
          "height": 143
        },
        "id": "SZ-MDulXBUXe",
        "outputId": "16007477-9e0d-4e73-ffb1-d3f9b7a55346"
      },
      "source": [
        "merged_data.describe().transpose()"
      ],
      "execution_count": null,
      "outputs": [
        {
          "output_type": "execute_result",
          "data": {
            "text/html": [
              "<div>\n",
              "<style scoped>\n",
              "    .dataframe tbody tr th:only-of-type {\n",
              "        vertical-align: middle;\n",
              "    }\n",
              "\n",
              "    .dataframe tbody tr th {\n",
              "        vertical-align: top;\n",
              "    }\n",
              "\n",
              "    .dataframe thead th {\n",
              "        text-align: right;\n",
              "    }\n",
              "</style>\n",
              "<table border=\"1\" class=\"dataframe\">\n",
              "  <thead>\n",
              "    <tr style=\"text-align: right;\">\n",
              "      <th></th>\n",
              "      <th>count</th>\n",
              "      <th>mean</th>\n",
              "      <th>std</th>\n",
              "      <th>min</th>\n",
              "      <th>25%</th>\n",
              "      <th>50%</th>\n",
              "      <th>75%</th>\n",
              "      <th>max</th>\n",
              "    </tr>\n",
              "  </thead>\n",
              "  <tbody>\n",
              "    <tr>\n",
              "      <th>uniqueID</th>\n",
              "      <td>215063.0</td>\n",
              "      <td>116039.364814</td>\n",
              "      <td>67007.913366</td>\n",
              "      <td>0.0</td>\n",
              "      <td>58115.5</td>\n",
              "      <td>115867.0</td>\n",
              "      <td>173963.5</td>\n",
              "      <td>232291.0</td>\n",
              "    </tr>\n",
              "    <tr>\n",
              "      <th>rating</th>\n",
              "      <td>215063.0</td>\n",
              "      <td>6.990008</td>\n",
              "      <td>3.275554</td>\n",
              "      <td>1.0</td>\n",
              "      <td>5.0</td>\n",
              "      <td>8.0</td>\n",
              "      <td>10.0</td>\n",
              "      <td>10.0</td>\n",
              "    </tr>\n",
              "    <tr>\n",
              "      <th>usefulCount</th>\n",
              "      <td>215063.0</td>\n",
              "      <td>28.001004</td>\n",
              "      <td>36.346069</td>\n",
              "      <td>0.0</td>\n",
              "      <td>6.0</td>\n",
              "      <td>16.0</td>\n",
              "      <td>36.0</td>\n",
              "      <td>1291.0</td>\n",
              "    </tr>\n",
              "  </tbody>\n",
              "</table>\n",
              "</div>"
            ],
            "text/plain": [
              "                count           mean  ...       75%       max\n",
              "uniqueID     215063.0  116039.364814  ...  173963.5  232291.0\n",
              "rating       215063.0       6.990008  ...      10.0      10.0\n",
              "usefulCount  215063.0      28.001004  ...      36.0    1291.0\n",
              "\n",
              "[3 rows x 8 columns]"
            ]
          },
          "metadata": {
            "tags": []
          },
          "execution_count": 9
        }
      ]
    },
    {
      "cell_type": "code",
      "metadata": {
        "colab": {
          "base_uri": "https://localhost:8080/",
          "height": 288
        },
        "id": "EH4B5L-xBfir",
        "outputId": "d15dc9ef-a176-4f3c-f4b1-bfc72fa2e22d"
      },
      "source": [
        "# Checking Missing values in the Data Set and printing the Percentage for Missing Values for Each Columns\n",
        "count = merged_data.isnull().sum().sort_values(ascending=False)\n",
        "percentage = ((merged_data.isnull().sum()/len(merged_data)*100)).sort_values(ascending=False)\n",
        "missing_data = pd.concat([count, percentage], axis=1,\n",
        "keys=['Count','Percentage'])\n",
        "\n",
        "print('Count and percentage of missing values for the columns:')\n",
        "\n",
        "missing_data"
      ],
      "execution_count": null,
      "outputs": [
        {
          "output_type": "stream",
          "text": [
            "Count and percentage of missing values for the columns:\n"
          ],
          "name": "stdout"
        },
        {
          "output_type": "execute_result",
          "data": {
            "text/html": [
              "<div>\n",
              "<style scoped>\n",
              "    .dataframe tbody tr th:only-of-type {\n",
              "        vertical-align: middle;\n",
              "    }\n",
              "\n",
              "    .dataframe tbody tr th {\n",
              "        vertical-align: top;\n",
              "    }\n",
              "\n",
              "    .dataframe thead th {\n",
              "        text-align: right;\n",
              "    }\n",
              "</style>\n",
              "<table border=\"1\" class=\"dataframe\">\n",
              "  <thead>\n",
              "    <tr style=\"text-align: right;\">\n",
              "      <th></th>\n",
              "      <th>Count</th>\n",
              "      <th>Percentage</th>\n",
              "    </tr>\n",
              "  </thead>\n",
              "  <tbody>\n",
              "    <tr>\n",
              "      <th>condition</th>\n",
              "      <td>1194</td>\n",
              "      <td>0.555186</td>\n",
              "    </tr>\n",
              "    <tr>\n",
              "      <th>usefulCount</th>\n",
              "      <td>0</td>\n",
              "      <td>0.000000</td>\n",
              "    </tr>\n",
              "    <tr>\n",
              "      <th>date</th>\n",
              "      <td>0</td>\n",
              "      <td>0.000000</td>\n",
              "    </tr>\n",
              "    <tr>\n",
              "      <th>rating</th>\n",
              "      <td>0</td>\n",
              "      <td>0.000000</td>\n",
              "    </tr>\n",
              "    <tr>\n",
              "      <th>review</th>\n",
              "      <td>0</td>\n",
              "      <td>0.000000</td>\n",
              "    </tr>\n",
              "    <tr>\n",
              "      <th>drugName</th>\n",
              "      <td>0</td>\n",
              "      <td>0.000000</td>\n",
              "    </tr>\n",
              "    <tr>\n",
              "      <th>uniqueID</th>\n",
              "      <td>0</td>\n",
              "      <td>0.000000</td>\n",
              "    </tr>\n",
              "  </tbody>\n",
              "</table>\n",
              "</div>"
            ],
            "text/plain": [
              "             Count  Percentage\n",
              "condition     1194    0.555186\n",
              "usefulCount      0    0.000000\n",
              "date             0    0.000000\n",
              "rating           0    0.000000\n",
              "review           0    0.000000\n",
              "drugName         0    0.000000\n",
              "uniqueID         0    0.000000"
            ]
          },
          "metadata": {
            "tags": []
          },
          "execution_count": 10
        }
      ]
    },
    {
      "cell_type": "code",
      "metadata": {
        "colab": {
          "base_uri": "https://localhost:8080/",
          "height": 535
        },
        "id": "RNp4PBLyBwtH",
        "outputId": "98ced38e-3252-4d04-8957-f02b8da0c561"
      },
      "source": [
        "# Checking for the Distribution of Default \n",
        "print('Percentage for default\\n')\n",
        "print(round(merged_data.rating.value_counts(normalize=True)*100,10))\n",
        "round(merged_data.rating.value_counts(normalize=True)*100,10).plot(kind='bar')\n",
        "plt.title('Percentage Distributions by review type')\n",
        "plt.show()"
      ],
      "execution_count": null,
      "outputs": [
        {
          "output_type": "stream",
          "text": [
            "Percentage for default\n",
            "\n",
            "10    31.620967\n",
            "9     17.068487\n",
            "1     13.446292\n",
            "8     11.645890\n",
            "7      5.834104\n",
            "5      4.985981\n",
            "2      4.308040\n",
            "3      4.053696\n",
            "6      3.934661\n",
            "4      3.101882\n",
            "Name: rating, dtype: float64\n"
          ],
          "name": "stdout"
        },
        {
          "output_type": "display_data",
          "data": {
            "image/png": "[encoded data removed]",
            "text/plain": [
              "<Figure size 432x288 with 1 Axes>"
            ]
          },
          "metadata": {
            "tags": []
          }
        }
      ]
    },
    {
      "cell_type": "code",
      "metadata": {
        "colab": {
          "base_uri": "https://localhost:8080/"
        },
        "id": "TYY5Q9wyCHeG",
        "outputId": "a8235c6f-977c-4d93-8269-728be94a9617"
      },
      "source": [
        "#import the libraries for pre-processing\n",
        "from bs4 import BeautifulSoup\n",
        "import nltk\n",
        "nltk.download('stopwords')\n",
        "import re\n",
        "from nltk.corpus import stopwords\n",
        "from nltk.stem.snowball import SnowballStemmer\n",
        "\n",
        "stops = set(stopwords.words('english')) #english stopwords\n",
        "stops = [e for e in stops if e not in ('no','nor','not')]\n",
        "stemmer = SnowballStemmer('english') #SnowballStemmer\n",
        "\n",
        "def review_to_words(raw_review):\n",
        "    # 1. Delete HTML \n",
        "    review_text = BeautifulSoup(raw_review, 'html.parser').get_text()\n",
        "    # 2. Make a space\n",
        "    letters_only = re.sub('[^a-zA-Z]', ' ', review_text)\n",
        "    # 3. lower letters\n",
        "    words = letters_only.lower().split()\n",
        "    # 5. Stopwords \n",
        "    meaningful_words = [w for w in words if not w in stops]\n",
        "    # 6. Stemming\n",
        "    stemming_words = [stemmer.stem(w) for w in meaningful_words]\n",
        "    # 7. space join words\n",
        "    return( ' '.join(stemming_words))"
      ],
      "execution_count": null,
      "outputs": [
        {
          "output_type": "stream",
          "text": [
            "[nltk_data] Downloading package stopwords to /root/nltk_data...\n",
            "[nltk_data]   Package stopwords is already up-to-date!\n"
          ],
          "name": "stdout"
        }
      ]
    },
    {
      "cell_type": "code",
      "metadata": {
        "colab": {
          "base_uri": "https://localhost:8080/",
          "height": 537
        },
        "id": "brZ-V3WjCZTA",
        "outputId": "b6918ada-5bc9-43a4-9883-a1cb0a8d06cc"
      },
      "source": [
        "# Let's take a look at the updated text\n",
        "merged_data['cleaned_review'] = pd.DataFrame(merged_data.review.apply(review_to_words))\n",
        "merged_data.head(10)"
      ],
      "execution_count": 34,
      "outputs": [
        {
          "output_type": "execute_result",
          "data": {
            "text/html": [
              "<div>\n",
              "<style scoped>\n",
              "    .dataframe tbody tr th:only-of-type {\n",
              "        vertical-align: middle;\n",
              "    }\n",
              "\n",
              "    .dataframe tbody tr th {\n",
              "        vertical-align: top;\n",
              "    }\n",
              "\n",
              "    .dataframe thead th {\n",
              "        text-align: right;\n",
              "    }\n",
              "</style>\n",
              "<table border=\"1\" class=\"dataframe\">\n",
              "  <thead>\n",
              "    <tr style=\"text-align: right;\">\n",
              "      <th></th>\n",
              "      <th>uniqueID</th>\n",
              "      <th>drugName</th>\n",
              "      <th>condition</th>\n",
              "      <th>review</th>\n",
              "      <th>rating</th>\n",
              "      <th>date</th>\n",
              "      <th>usefulCount</th>\n",
              "      <th>cleaned_review</th>\n",
              "    </tr>\n",
              "  </thead>\n",
              "  <tbody>\n",
              "    <tr>\n",
              "      <th>0</th>\n",
              "      <td>206461</td>\n",
              "      <td>Valsartan</td>\n",
              "      <td>Left Ventricular Dysfunction</td>\n",
              "      <td>\"It has no side effect, I take it in combinati...</td>\n",
              "      <td>9</td>\n",
              "      <td>20-May-12</td>\n",
              "      <td>27</td>\n",
              "      <td>no side effect take combin bystol mg fish oil</td>\n",
              "    </tr>\n",
              "    <tr>\n",
              "      <th>1</th>\n",
              "      <td>95260</td>\n",
              "      <td>Guanfacine</td>\n",
              "      <td>ADHD</td>\n",
              "      <td>\"My son is halfway through his fourth week of ...</td>\n",
              "      <td>8</td>\n",
              "      <td>27-Apr-10</td>\n",
              "      <td>192</td>\n",
              "      <td>son halfway fourth week intuniv becam concern ...</td>\n",
              "    </tr>\n",
              "    <tr>\n",
              "      <th>2</th>\n",
              "      <td>92703</td>\n",
              "      <td>Lybrel</td>\n",
              "      <td>Birth Control</td>\n",
              "      <td>\"I used to take another oral contraceptive, wh...</td>\n",
              "      <td>5</td>\n",
              "      <td>14-Dec-09</td>\n",
              "      <td>17</td>\n",
              "      <td>use take anoth oral contracept pill cycl happi...</td>\n",
              "    </tr>\n",
              "    <tr>\n",
              "      <th>3</th>\n",
              "      <td>138000</td>\n",
              "      <td>Ortho Evra</td>\n",
              "      <td>Birth Control</td>\n",
              "      <td>\"This is my first time using any form of birth...</td>\n",
              "      <td>8</td>\n",
              "      <td>3-Nov-15</td>\n",
              "      <td>10</td>\n",
              "      <td>first time use form birth control glad went pa...</td>\n",
              "    </tr>\n",
              "    <tr>\n",
              "      <th>4</th>\n",
              "      <td>35696</td>\n",
              "      <td>Buprenorphine / naloxone</td>\n",
              "      <td>Opiate Dependence</td>\n",
              "      <td>\"Suboxone has completely turned my life around...</td>\n",
              "      <td>9</td>\n",
              "      <td>27-Nov-16</td>\n",
              "      <td>37</td>\n",
              "      <td>suboxon complet turn life around feel healthie...</td>\n",
              "    </tr>\n",
              "    <tr>\n",
              "      <th>5</th>\n",
              "      <td>155963</td>\n",
              "      <td>Cialis</td>\n",
              "      <td>Benign Prostatic Hyperplasia</td>\n",
              "      <td>\"2nd day on 5mg started to work with rock hard...</td>\n",
              "      <td>2</td>\n",
              "      <td>28-Nov-15</td>\n",
              "      <td>43</td>\n",
              "      <td>nd day mg start work rock hard erect howev exp...</td>\n",
              "    </tr>\n",
              "    <tr>\n",
              "      <th>6</th>\n",
              "      <td>165907</td>\n",
              "      <td>Levonorgestrel</td>\n",
              "      <td>Emergency Contraception</td>\n",
              "      <td>\"He pulled out, but he cummed a bit in me. I t...</td>\n",
              "      <td>1</td>\n",
              "      <td>7-Mar-17</td>\n",
              "      <td>5</td>\n",
              "      <td>pull cum bit took plan b hour later took pregn...</td>\n",
              "    </tr>\n",
              "    <tr>\n",
              "      <th>7</th>\n",
              "      <td>102654</td>\n",
              "      <td>Aripiprazole</td>\n",
              "      <td>Bipolar Disorde</td>\n",
              "      <td>\"Abilify changed my life. There is hope. I was...</td>\n",
              "      <td>10</td>\n",
              "      <td>14-Mar-15</td>\n",
              "      <td>32</td>\n",
              "      <td>abilifi chang life hope zoloft clonidin first ...</td>\n",
              "    </tr>\n",
              "    <tr>\n",
              "      <th>8</th>\n",
              "      <td>74811</td>\n",
              "      <td>Keppra</td>\n",
              "      <td>Epilepsy</td>\n",
              "      <td>\" I Ve had  nothing but problems with the Kepp...</td>\n",
              "      <td>1</td>\n",
              "      <td>9-Aug-16</td>\n",
              "      <td>11</td>\n",
              "      <td>noth problem keppera constant shake arm leg pi...</td>\n",
              "    </tr>\n",
              "    <tr>\n",
              "      <th>9</th>\n",
              "      <td>48928</td>\n",
              "      <td>Ethinyl estradiol / levonorgestrel</td>\n",
              "      <td>Birth Control</td>\n",
              "      <td>\"I had been on the pill for many years. When m...</td>\n",
              "      <td>8</td>\n",
              "      <td>8-Dec-16</td>\n",
              "      <td>1</td>\n",
              "      <td>pill mani year doctor chang rx chateal effect ...</td>\n",
              "    </tr>\n",
              "  </tbody>\n",
              "</table>\n",
              "</div>"
            ],
            "text/plain": [
              "   uniqueID  ...                                     cleaned_review\n",
              "0    206461  ...      no side effect take combin bystol mg fish oil\n",
              "1     95260  ...  son halfway fourth week intuniv becam concern ...\n",
              "2     92703  ...  use take anoth oral contracept pill cycl happi...\n",
              "3    138000  ...  first time use form birth control glad went pa...\n",
              "4     35696  ...  suboxon complet turn life around feel healthie...\n",
              "5    155963  ...  nd day mg start work rock hard erect howev exp...\n",
              "6    165907  ...  pull cum bit took plan b hour later took pregn...\n",
              "7    102654  ...  abilifi chang life hope zoloft clonidin first ...\n",
              "8     74811  ...  noth problem keppera constant shake arm leg pi...\n",
              "9     48928  ...  pill mani year doctor chang rx chateal effect ...\n",
              "\n",
              "[10 rows x 8 columns]"
            ]
          },
          "metadata": {
            "tags": []
          },
          "execution_count": 34
        }
      ]
    },
    {
      "cell_type": "code",
      "metadata": {
        "colab": {
          "base_uri": "https://localhost:8080/"
        },
        "id": "yV1g0swoD1Kk",
        "outputId": "9bc97e43-885e-403e-df62-6d26d11649b2"
      },
      "source": [
        "# Model training\n",
        "from sklearn.model_selection import train_test_split\n",
        "\n",
        "Independent_var = merged_data.cleaned_review\n",
        "Dependent_var = merged_data.rating\n",
        "\n",
        "X_train, X_test, Y_train, Y_test = train_test_split(Independent_var, Dependent_var, test_size = 0.20, random_state = 225)\n",
        "\n",
        "print('X_train :', len(X_train))\n",
        "print('X_test  :', len(X_test))\n",
        "print('Y_train :', len(Y_train))\n",
        "print('Y_test  :', len(Y_test))"
      ],
      "execution_count": null,
      "outputs": [
        {
          "output_type": "stream",
          "text": [
            "X_train : 172050\n",
            "X_test  : 43013\n",
            "Y_train : 172050\n",
            "Y_test  : 43013\n"
          ],
          "name": "stdout"
        }
      ]
    },
    {
      "cell_type": "code",
      "metadata": {
        "id": "a9N2X3EFFDyp"
      },
      "source": [
        "from sklearn.feature_extraction.text import TfidfVectorizer\n",
        "from sklearn.linear_model import LogisticRegression\n",
        "tvec = TfidfVectorizer()\n",
        "clf2 = LogisticRegression(solver = \"lbfgs\")\n",
        "from sklearn.pipeline import Pipeline"
      ],
      "execution_count": null,
      "outputs": []
    },
    {
      "cell_type": "code",
      "metadata": {
        "colab": {
          "base_uri": "https://localhost:8080/"
        },
        "id": "ZJ4Es3EBFJyj",
        "outputId": "66eb278e-f486-43a2-b688-070b55ef482a"
      },
      "source": [
        "model = Pipeline([('vectorizer',tvec),('classifier',clf2)])\n",
        "model.fit(X_train, Y_train)\n",
        "from sklearn.metrics import confusion_matrix\n",
        "predictions = model.predict(X_test)\n",
        "confusion_matrix(predictions, Y_test)"
      ],
      "execution_count": null,
      "outputs": [
        {
          "output_type": "stream",
          "text": [
            "/usr/local/lib/python3.6/dist-packages/sklearn/linear_model/_logistic.py:940: ConvergenceWarning: lbfgs failed to converge (status=1):\n",
            "STOP: TOTAL NO. of ITERATIONS REACHED LIMIT.\n",
            "\n",
            "Increase the number of iterations (max_iter) or scale the data as shown in:\n",
            "    https://scikit-learn.org/stable/modules/preprocessing.html\n",
            "Please also refer to the documentation for alternative solver options:\n",
            "    https://scikit-learn.org/stable/modules/linear_model.html#logistic-regression\n",
            "  extra_warning_msg=_LOGISTIC_SOLVER_CONVERGENCE_MSG)\n"
          ],
          "name": "stderr"
        },
        {
          "output_type": "execute_result",
          "data": {
            "text/plain": [
              "array([[ 4219,   951,   633,   441,   543,   284,   325,   376,   392,\n",
              "          641],\n",
              "       [   76,   104,    49,    36,    47,    27,    19,    17,    22,\n",
              "           22],\n",
              "       [   79,    63,    95,    65,    74,    38,    36,    29,    19,\n",
              "           20],\n",
              "       [   19,     9,    20,    38,    19,    10,    15,     9,    12,\n",
              "            6],\n",
              "       [   80,    69,    94,    92,   220,   114,   108,   124,    79,\n",
              "           48],\n",
              "       [   32,    24,    22,    28,    31,    62,    33,    27,    27,\n",
              "           21],\n",
              "       [   33,    29,    54,    36,    70,    66,   161,   113,   102,\n",
              "           54],\n",
              "       [  148,   122,   160,   185,   339,   323,   504,  1105,   741,\n",
              "          559],\n",
              "       [  170,   117,   116,   120,   229,   214,   438,   959,  1765,\n",
              "         1203],\n",
              "       [  933,   323,   383,   308,   606,   524,   927,  2246,  4244,\n",
              "        11050]])"
            ]
          },
          "metadata": {
            "tags": []
          },
          "execution_count": 23
        }
      ]
    },
    {
      "cell_type": "code",
      "metadata": {
        "colab": {
          "base_uri": "https://localhost:8080/"
        },
        "id": "mDD6pZSTFS91",
        "outputId": "c7f463c8-b3f9-4751-d231-6e5ae8c799eb"
      },
      "source": [
        "#Model prediciton\n",
        "from sklearn.metrics import accuracy_score, precision_score, recall_score\n",
        "\n",
        "print(\"Accuracy : \", accuracy_score(predictions, Y_test))\n",
        "print(\"Precision : \", precision_score(predictions, Y_test, average = 'weighted'))\n",
        "print(\"Confution: \", recall_score(predictions, Y_test, average = 'weighted'))"
      ],
      "execution_count": null,
      "outputs": [
        {
          "output_type": "stream",
          "text": [
            "Accuracy :  0.43751888963801644\n",
            "Precision :  0.6115589354271836\n",
            "Recall :  0.43751888963801644\n"
          ],
          "name": "stdout"
        }
      ]
    },
    {
      "cell_type": "code",
      "metadata": {
        "colab": {
          "base_uri": "https://localhost:8080/"
        },
        "id": "TmVWn0cHFYtx",
        "outputId": "dd31a0c1-4695-4b6f-d8ac-5ee2defff31c"
      },
      "source": [
        "#new reviews\n",
        "example = [\"This drug bad service\"]\n",
        "result = model.predict(example)\n",
        "\n",
        "print(result)"
      ],
      "execution_count": 32,
      "outputs": [
        {
          "output_type": "stream",
          "text": [
            "[1]\n"
          ],
          "name": "stdout"
        }
      ]
    },
    {
      "cell_type": "code",
      "metadata": {
        "colab": {
          "base_uri": "https://localhost:8080/"
        },
        "id": "ucmUMf0vRNQA",
        "outputId": "e6810cfd-ecd8-4839-b7fc-23738421ec82"
      },
      "source": [
        "#new reviews\r\n",
        "test = pd.read_csv('/content/gdrive/MyDrive/archive/drugsComTest_raw.csv')\r\n",
        "test2 = test.review[[53765]]\r\n",
        "test1 = test.rating[[53765]]\r\n",
        "example = [\"It works\"]\r\n",
        "result = model.predict(example)\r\n",
        "print('read: ',test2)\r\n",
        "print('test: ', test1)\r\n",
        "print('Example: ',example)\r\n",
        "print('result',result)"
      ],
      "execution_count": 54,
      "outputs": [
        {
          "output_type": "stream",
          "text": [
            "read:  53765    \"It works!!!\"\n",
            "Name: review, dtype: object\n",
            "test:  53765    9\n",
            "Name: rating, dtype: int64\n",
            "Example:  ['It works']\n",
            "result [10]\n"
          ],
          "name": "stdout"
        }
      ]
    },
    {
      "cell_type": "code",
      "metadata": {
        "colab": {
          "base_uri": "https://localhost:8080/",
          "height": 424
        },
        "id": "O_6QFHVjUX_v",
        "outputId": "848fb559-9cf8-4f9f-c6e8-9af68316da0e"
      },
      "source": [
        "test"
      ],
      "execution_count": 41,
      "outputs": [
        {
          "output_type": "execute_result",
          "data": {
            "text/html": [
              "<div>\n",
              "<style scoped>\n",
              "    .dataframe tbody tr th:only-of-type {\n",
              "        vertical-align: middle;\n",
              "    }\n",
              "\n",
              "    .dataframe tbody tr th {\n",
              "        vertical-align: top;\n",
              "    }\n",
              "\n",
              "    .dataframe thead th {\n",
              "        text-align: right;\n",
              "    }\n",
              "</style>\n",
              "<table border=\"1\" class=\"dataframe\">\n",
              "  <thead>\n",
              "    <tr style=\"text-align: right;\">\n",
              "      <th></th>\n",
              "      <th>uniqueID</th>\n",
              "      <th>drugName</th>\n",
              "      <th>condition</th>\n",
              "      <th>review</th>\n",
              "      <th>rating</th>\n",
              "      <th>date</th>\n",
              "      <th>usefulCount</th>\n",
              "    </tr>\n",
              "  </thead>\n",
              "  <tbody>\n",
              "    <tr>\n",
              "      <th>0</th>\n",
              "      <td>163740</td>\n",
              "      <td>Mirtazapine</td>\n",
              "      <td>Depression</td>\n",
              "      <td>\"I&amp;#039;ve tried a few antidepressants over th...</td>\n",
              "      <td>10</td>\n",
              "      <td>28-Feb-12</td>\n",
              "      <td>22</td>\n",
              "    </tr>\n",
              "    <tr>\n",
              "      <th>1</th>\n",
              "      <td>206473</td>\n",
              "      <td>Mesalamine</td>\n",
              "      <td>Crohn's Disease, Maintenance</td>\n",
              "      <td>\"My son has Crohn&amp;#039;s disease and has done ...</td>\n",
              "      <td>8</td>\n",
              "      <td>17-May-09</td>\n",
              "      <td>17</td>\n",
              "    </tr>\n",
              "    <tr>\n",
              "      <th>2</th>\n",
              "      <td>159672</td>\n",
              "      <td>Bactrim</td>\n",
              "      <td>Urinary Tract Infection</td>\n",
              "      <td>\"Quick reduction of symptoms\"</td>\n",
              "      <td>9</td>\n",
              "      <td>29-Sep-17</td>\n",
              "      <td>3</td>\n",
              "    </tr>\n",
              "    <tr>\n",
              "      <th>3</th>\n",
              "      <td>39293</td>\n",
              "      <td>Contrave</td>\n",
              "      <td>Weight Loss</td>\n",
              "      <td>\"Contrave combines drugs that were used for al...</td>\n",
              "      <td>9</td>\n",
              "      <td>5-Mar-17</td>\n",
              "      <td>35</td>\n",
              "    </tr>\n",
              "    <tr>\n",
              "      <th>4</th>\n",
              "      <td>97768</td>\n",
              "      <td>Cyclafem 1 / 35</td>\n",
              "      <td>Birth Control</td>\n",
              "      <td>\"I have been on this birth control for one cyc...</td>\n",
              "      <td>9</td>\n",
              "      <td>22-Oct-15</td>\n",
              "      <td>4</td>\n",
              "    </tr>\n",
              "    <tr>\n",
              "      <th>...</th>\n",
              "      <td>...</td>\n",
              "      <td>...</td>\n",
              "      <td>...</td>\n",
              "      <td>...</td>\n",
              "      <td>...</td>\n",
              "      <td>...</td>\n",
              "      <td>...</td>\n",
              "    </tr>\n",
              "    <tr>\n",
              "      <th>53761</th>\n",
              "      <td>159999</td>\n",
              "      <td>Tamoxifen</td>\n",
              "      <td>Breast Cancer, Prevention</td>\n",
              "      <td>\"I have taken Tamoxifen for 5 years. Side effe...</td>\n",
              "      <td>10</td>\n",
              "      <td>13-Sep-14</td>\n",
              "      <td>43</td>\n",
              "    </tr>\n",
              "    <tr>\n",
              "      <th>53762</th>\n",
              "      <td>140714</td>\n",
              "      <td>Escitalopram</td>\n",
              "      <td>Anxiety</td>\n",
              "      <td>\"I&amp;#039;ve been taking Lexapro (escitaploprgra...</td>\n",
              "      <td>9</td>\n",
              "      <td>8-Oct-16</td>\n",
              "      <td>11</td>\n",
              "    </tr>\n",
              "    <tr>\n",
              "      <th>53763</th>\n",
              "      <td>130945</td>\n",
              "      <td>Levonorgestrel</td>\n",
              "      <td>Birth Control</td>\n",
              "      <td>\"I&amp;#039;m married, 34 years old and I have no ...</td>\n",
              "      <td>8</td>\n",
              "      <td>15-Nov-10</td>\n",
              "      <td>7</td>\n",
              "    </tr>\n",
              "    <tr>\n",
              "      <th>53764</th>\n",
              "      <td>47656</td>\n",
              "      <td>Tapentadol</td>\n",
              "      <td>Pain</td>\n",
              "      <td>\"I was prescribed Nucynta for severe neck/shou...</td>\n",
              "      <td>1</td>\n",
              "      <td>28-Nov-11</td>\n",
              "      <td>20</td>\n",
              "    </tr>\n",
              "    <tr>\n",
              "      <th>53765</th>\n",
              "      <td>113712</td>\n",
              "      <td>Arthrotec</td>\n",
              "      <td>Sciatica</td>\n",
              "      <td>\"It works!!!\"</td>\n",
              "      <td>9</td>\n",
              "      <td>13-Sep-09</td>\n",
              "      <td>46</td>\n",
              "    </tr>\n",
              "  </tbody>\n",
              "</table>\n",
              "<p>53766 rows × 7 columns</p>\n",
              "</div>"
            ],
            "text/plain": [
              "       uniqueID         drugName  ...       date usefulCount\n",
              "0        163740      Mirtazapine  ...  28-Feb-12          22\n",
              "1        206473       Mesalamine  ...  17-May-09          17\n",
              "2        159672          Bactrim  ...  29-Sep-17           3\n",
              "3         39293         Contrave  ...   5-Mar-17          35\n",
              "4         97768  Cyclafem 1 / 35  ...  22-Oct-15           4\n",
              "...         ...              ...  ...        ...         ...\n",
              "53761    159999        Tamoxifen  ...  13-Sep-14          43\n",
              "53762    140714     Escitalopram  ...   8-Oct-16          11\n",
              "53763    130945   Levonorgestrel  ...  15-Nov-10           7\n",
              "53764     47656       Tapentadol  ...  28-Nov-11          20\n",
              "53765    113712        Arthrotec  ...  13-Sep-09          46\n",
              "\n",
              "[53766 rows x 7 columns]"
            ]
          },
          "metadata": {
            "tags": []
          },
          "execution_count": 41
        }
      ]
    },
    {
      "cell_type": "code",
      "metadata": {
        "colab": {
          "base_uri": "https://localhost:8080/"
        },
        "id": "j9CqL1ajICFE",
        "outputId": "43a77b14-cf34-4ecd-ded4-39a6fd906299"
      },
      "source": [
        "#new reviews\r\n",
        "\r\n",
        "example = [\"son halfway fourth week intuniv becam concern began last week start take highest dose two day could hard get bed cranki slept near hour drive home school vacat unusu call doctor monday morn said stick day see school get morn last two day problem free much agreeabl ever less emot good thing less cranki rememb thing overal behavior better tri mani differ medic far effect \"]\r\n",
        "result = model.predict(example)\r\n",
        "print(result)"
      ],
      "execution_count": 29,
      "outputs": [
        {
          "output_type": "stream",
          "text": [
            "[8]\n"
          ],
          "name": "stdout"
        }
      ]
    },
    {
      "cell_type": "code",
      "metadata": {
        "id": "_tdsiQXvNM50"
      },
      "source": [
        "#new reviews\r\n",
        "example = merged_data[48928]\r\n",
        "result = model.predict(example)\r\n",
        "print(result)"
      ],
      "execution_count": null,
      "outputs": []
    }
  ]
}