{
  "nbformat": 4,
  "nbformat_minor": 0,
  "metadata": {
    "colab": {
      "name": "1 .ipynb",
      "provenance": [],
      "authorship_tag": "ABX9TyOqegARu86pNpAcSCJaIX/O",
      "include_colab_link": true
    },
    "kernelspec": {
      "name": "python3",
      "display_name": "Python 3"
    }
  },
  "cells": [
    {
      "cell_type": "markdown",
      "metadata": {
        "id": "view-in-github",
        "colab_type": "text"
      },
      "source": [
        "<a href=\"https://colab.research.google.com/github/MdShahadatHossainbd/ML-Project/blob/main/1_.ipynb\" target=\"_parent\"><img src=\"https://colab.research.google.com/assets/colab-badge.svg\" alt=\"Open In Colab\"/></a>"
      ]
    },
    {
      "cell_type": "code",
      "metadata": {
        "id": "QGT5YTHBaEkD"
      },
      "source": [
        "#import all the necessary packages\n",
        "\n",
        "import matplotlib.pyplot as plt\n",
        "import numpy as np\n",
        "import pandas as pd\n",
        "import seaborn as sns\n",
        "%matplotlib inline\n",
        "from matplotlib import style\n",
        "style.use('ggplot')"
      ],
      "execution_count": 1,
      "outputs": []
    },
    {
      "cell_type": "code",
      "metadata": {
        "colab": {
          "base_uri": "https://localhost:8080/"
        },
        "id": "7bBcdipcaSMW",
        "outputId": "93fd229f-a07b-4d0c-809b-56d82932858c"
      },
      "source": [
        "from google.colab import drive\n",
        "drive.mount('/content/gdrive')"
      ],
      "execution_count": 2,
      "outputs": [
        {
          "output_type": "stream",
          "text": [
            "Mounted at /content/gdrive\n"
          ],
          "name": "stdout"
        }
      ]
    },
    {
      "cell_type": "code",
      "metadata": {
        "id": "QOLOQFpnanQg"
      },
      "source": [
        "#train = pd.read_csv('/content/gdrive/MyDrive/archive/drugsComTrain_raw.csv') #train data\n",
        "#test = pd.read_csv('/content/gdrive/MyDrive/archive/drugsComTest_raw.csv') #test data"
      ],
      "execution_count": 3,
      "outputs": []
    },
    {
      "cell_type": "code",
      "metadata": {
        "id": "teuyQUlEasoW"
      },
      "source": [
        "def load_dataset(file_path, num_samples):\n",
        "    df = pd.read_csv(file_path, usecols=[3, 4], nrows=num_samples)\n",
        "    df.columns = ['review', 'rating']\n",
        "\n",
        "    text = df['review'].tolist()\n",
        "    text = [str(t).encode('ascii', 'replace') for t in text]\n",
        "    text = np.array(text, dtype=object)[:]\n",
        "    \n",
        "    labels = df['rating'].tolist()\n",
        "    labels = [1 if i>=7 else 0 if i>=5 else -1 for i in labels]\n",
        "    labels = np.array(pd.get_dummies(labels), dtype=int)[:] \n",
        "\n",
        "    return labels, text"
      ],
      "execution_count": 4,
      "outputs": []
    },
    {
      "cell_type": "code",
      "metadata": {
        "colab": {
          "base_uri": "https://localhost:8080/"
        },
        "id": "MW7JJArVa45T",
        "outputId": "0c233d30-2746-4ee5-dec6-8ace5c3735eb"
      },
      "source": [
        "tmp_labels, tmp_text = load_dataset('/content/gdrive/MyDrive/archive/drugsComTrain_raw.csv', 568454)\n",
        "tmp_text.shape"
      ],
      "execution_count": 5,
      "outputs": [
        {
          "output_type": "execute_result",
          "data": {
            "text/plain": [
              "(161297,)"
            ]
          },
          "metadata": {
            "tags": []
          },
          "execution_count": 5
        }
      ]
    },
    {
      "cell_type": "code",
      "metadata": {
        "colab": {
          "base_uri": "https://localhost:8080/"
        },
        "id": "u1SGWgJFbF64",
        "outputId": "54d88b59-5c7b-4cee-fa53-1fd898658bfc"
      },
      "source": [
        "test_labels, test_text = load_dataset('/content/gdrive/MyDrive/archive/drugsComTest_raw.csv',60000)\n",
        "test_text.shape"
      ],
      "execution_count": 6,
      "outputs": [
        {
          "output_type": "execute_result",
          "data": {
            "text/plain": [
              "(53766,)"
            ]
          },
          "metadata": {
            "tags": []
          },
          "execution_count": 6
        }
      ]
    },
    {
      "cell_type": "code",
      "metadata": {
        "colab": {
          "base_uri": "https://localhost:8080/"
        },
        "id": "N-sklvFMbLNs",
        "outputId": "6e959720-c387-422d-adc1-75811bf3877b"
      },
      "source": [
        "#import the libraries for pre-processing\n",
        "from bs4 import BeautifulSoup\n",
        "import nltk\n",
        "nltk.download('stopwords')\n",
        "import re\n",
        "from nltk.corpus import stopwords\n",
        "from nltk.stem.snowball import SnowballStemmer\n",
        "\n",
        "stops = set(stopwords.words('english')) #english stopwords\n",
        "\n",
        "stemmer = SnowballStemmer('english') #SnowballStemmer\n",
        "\n",
        "def review_to_words(raw_review):\n",
        "    # 1. Delete HTML \n",
        "    review_text = BeautifulSoup(raw_review, 'html.parser').get_text()\n",
        "    # 2. Make a space\n",
        "    letters_only = re.sub('[^a-zA-Z]', ' ', review_text)\n",
        "    # 3. lower letters\n",
        "    words = letters_only.lower().split()\n",
        "    # 5. Stopwords \n",
        "    meaningful_words = [w for w in words if not w in stops]\n",
        "    # 6. Stemming\n",
        "    stemming_words = [stemmer.stem(w) for w in meaningful_words]\n",
        "    # 7. space join words\n",
        "    #return( ' '.join(stemming_words)"
      ],
      "execution_count": 9,
      "outputs": [
        {
          "output_type": "stream",
          "text": [
            "[nltk_data] Downloading package stopwords to /root/nltk_data...\n",
            "[nltk_data]   Unzipping corpora/stopwords.zip.\n"
          ],
          "name": "stdout"
        }
      ]
    },
    {
      "cell_type": "code",
      "metadata": {
        "id": "CuSrcg2FchBw"
      },
      "source": [
        "import tensorflow as tf\n",
        "import tensorflow_hub as hub"
      ],
      "execution_count": 11,
      "outputs": []
    },
    {
      "cell_type": "code",
      "metadata": {
        "colab": {
          "base_uri": "https://localhost:8080/"
        },
        "id": "U2LGNSDGcTP6",
        "outputId": "48b25610-65e6-482f-a105-c940ac51cdcb"
      },
      "source": [
        "hub_layer = hub.KerasLayer(\"https://tfhub.dev/google/tf2-preview/nnlm-en-dim128/1\", output_shape=[50], \n",
        "                           input_shape=[], dtype=tf.string, name='input', trainable=False)\n",
        "\n",
        "model = tf.keras.Sequential()\n",
        "model.add(hub_layer)\n",
        "model.add(tf.keras.layers.Dense(1024, activation='relu'))\n",
        "model.add(tf.keras.layers.Dropout(0.2))\n",
        "model.add(tf.keras.layers.Dense(3, activation='softmax', name='output'))\n",
        "model.compile(loss='categorical_crossentropy',\n",
        "                  optimizer='Adam', metrics=['accuracy'])\n",
        "model.summary()"
      ],
      "execution_count": 12,
      "outputs": [
        {
          "output_type": "stream",
          "text": [
            "Model: \"sequential\"\n",
            "_________________________________________________________________\n",
            "Layer (type)                 Output Shape              Param #   \n",
            "=================================================================\n",
            "input (KerasLayer)           (None, 128)               124642688 \n",
            "_________________________________________________________________\n",
            "dense (Dense)                (None, 1024)              132096    \n",
            "_________________________________________________________________\n",
            "dropout (Dropout)            (None, 1024)              0         \n",
            "_________________________________________________________________\n",
            "output (Dense)               (None, 3)                 3075      \n",
            "=================================================================\n",
            "Total params: 124,777,859\n",
            "Trainable params: 135,171\n",
            "Non-trainable params: 124,642,688\n",
            "_________________________________________________________________\n"
          ],
          "name": "stdout"
        }
      ]
    },
    {
      "cell_type": "code",
      "metadata": {
        "colab": {
          "base_uri": "https://localhost:8080/"
        },
        "id": "lnQ9wdoocmT7",
        "outputId": "454a8792-4e3e-4d77-c2b2-5ea3c2f1a5bb"
      },
      "source": [
        "print(\"Training the model ...\")\n",
        "history = model.fit(test_text,test_labels, batch_size = 128, epochs=50, verbose=1,\n",
        "              validation_data=(test_text,test_labels),)"
      ],
      "execution_count": 13,
      "outputs": [
        {
          "output_type": "stream",
          "text": [
            "Training the model ...\n",
            "Epoch 1/50\n",
            "421/421 [==============================] - 9s 21ms/step - loss: 0.7994 - accuracy: 0.6710 - val_loss: 0.7369 - val_accuracy: 0.6965\n",
            "Epoch 2/50\n",
            "421/421 [==============================] - 11s 27ms/step - loss: 0.7348 - accuracy: 0.6992 - val_loss: 0.7160 - val_accuracy: 0.7082\n",
            "Epoch 3/50\n",
            "421/421 [==============================] - 12s 30ms/step - loss: 0.7228 - accuracy: 0.7066 - val_loss: 0.7006 - val_accuracy: 0.7166\n",
            "Epoch 4/50\n",
            "421/421 [==============================] - 11s 26ms/step - loss: 0.7031 - accuracy: 0.7149 - val_loss: 0.6888 - val_accuracy: 0.7247\n",
            "Epoch 5/50\n",
            "421/421 [==============================] - 12s 28ms/step - loss: 0.6881 - accuracy: 0.7229 - val_loss: 0.6722 - val_accuracy: 0.7321\n",
            "Epoch 6/50\n",
            "421/421 [==============================] - 12s 29ms/step - loss: 0.6830 - accuracy: 0.7262 - val_loss: 0.6712 - val_accuracy: 0.7245\n",
            "Epoch 7/50\n",
            "421/421 [==============================] - 11s 25ms/step - loss: 0.6617 - accuracy: 0.7330 - val_loss: 0.6459 - val_accuracy: 0.7430\n",
            "Epoch 8/50\n",
            "421/421 [==============================] - 12s 28ms/step - loss: 0.6513 - accuracy: 0.7403 - val_loss: 0.6315 - val_accuracy: 0.7443\n",
            "Epoch 9/50\n",
            "421/421 [==============================] - 11s 26ms/step - loss: 0.6379 - accuracy: 0.7450 - val_loss: 0.6208 - val_accuracy: 0.7496\n",
            "Epoch 10/50\n",
            "421/421 [==============================] - 9s 21ms/step - loss: 0.6326 - accuracy: 0.7470 - val_loss: 0.6046 - val_accuracy: 0.7571\n",
            "Epoch 11/50\n",
            "421/421 [==============================] - 11s 27ms/step - loss: 0.6216 - accuracy: 0.7504 - val_loss: 0.5998 - val_accuracy: 0.7567\n",
            "Epoch 12/50\n",
            "421/421 [==============================] - 11s 26ms/step - loss: 0.6105 - accuracy: 0.7547 - val_loss: 0.5862 - val_accuracy: 0.7727\n",
            "Epoch 13/50\n",
            "421/421 [==============================] - 11s 27ms/step - loss: 0.5955 - accuracy: 0.7640 - val_loss: 0.5658 - val_accuracy: 0.7776\n",
            "Epoch 14/50\n",
            "421/421 [==============================] - 11s 26ms/step - loss: 0.5797 - accuracy: 0.7732 - val_loss: 0.5547 - val_accuracy: 0.7802\n",
            "Epoch 15/50\n",
            "421/421 [==============================] - 11s 26ms/step - loss: 0.5663 - accuracy: 0.7759 - val_loss: 0.5388 - val_accuracy: 0.7900\n",
            "Epoch 16/50\n",
            "421/421 [==============================] - 11s 26ms/step - loss: 0.5573 - accuracy: 0.7799 - val_loss: 0.5332 - val_accuracy: 0.7859\n",
            "Epoch 17/50\n",
            "421/421 [==============================] - 11s 26ms/step - loss: 0.5419 - accuracy: 0.7869 - val_loss: 0.5139 - val_accuracy: 0.7937\n",
            "Epoch 18/50\n",
            "421/421 [==============================] - 12s 28ms/step - loss: 0.5401 - accuracy: 0.7862 - val_loss: 0.5062 - val_accuracy: 0.8104\n",
            "Epoch 19/50\n",
            "421/421 [==============================] - 10s 24ms/step - loss: 0.5245 - accuracy: 0.7920 - val_loss: 0.4920 - val_accuracy: 0.8124\n",
            "Epoch 20/50\n",
            "421/421 [==============================] - 9s 22ms/step - loss: 0.5096 - accuracy: 0.7985 - val_loss: 0.4729 - val_accuracy: 0.8160\n",
            "Epoch 21/50\n",
            "421/421 [==============================] - 10s 23ms/step - loss: 0.5038 - accuracy: 0.8003 - val_loss: 0.4626 - val_accuracy: 0.8282\n",
            "Epoch 22/50\n",
            "421/421 [==============================] - 13s 30ms/step - loss: 0.4904 - accuracy: 0.8075 - val_loss: 0.4552 - val_accuracy: 0.8191\n",
            "Epoch 23/50\n",
            "421/421 [==============================] - 12s 28ms/step - loss: 0.4810 - accuracy: 0.8103 - val_loss: 0.4376 - val_accuracy: 0.8393\n",
            "Epoch 24/50\n",
            "421/421 [==============================] - 11s 25ms/step - loss: 0.4704 - accuracy: 0.8176 - val_loss: 0.4236 - val_accuracy: 0.8402\n",
            "Epoch 25/50\n",
            "421/421 [==============================] - 12s 27ms/step - loss: 0.4597 - accuracy: 0.8217 - val_loss: 0.4247 - val_accuracy: 0.8438\n",
            "Epoch 26/50\n",
            "421/421 [==============================] - 12s 30ms/step - loss: 0.4540 - accuracy: 0.8247 - val_loss: 0.4113 - val_accuracy: 0.8342\n",
            "Epoch 27/50\n",
            "421/421 [==============================] - 12s 28ms/step - loss: 0.4338 - accuracy: 0.8336 - val_loss: 0.4059 - val_accuracy: 0.8400\n",
            "Epoch 28/50\n",
            "421/421 [==============================] - 12s 29ms/step - loss: 0.4324 - accuracy: 0.8343 - val_loss: 0.3802 - val_accuracy: 0.8589\n",
            "Epoch 29/50\n",
            "421/421 [==============================] - 11s 27ms/step - loss: 0.4201 - accuracy: 0.8404 - val_loss: 0.3705 - val_accuracy: 0.8669\n",
            "Epoch 30/50\n",
            "421/421 [==============================] - 12s 28ms/step - loss: 0.4059 - accuracy: 0.8443 - val_loss: 0.3588 - val_accuracy: 0.8711\n",
            "Epoch 31/50\n",
            "421/421 [==============================] - 12s 29ms/step - loss: 0.3976 - accuracy: 0.8461 - val_loss: 0.3442 - val_accuracy: 0.8810\n",
            "Epoch 32/50\n",
            "421/421 [==============================] - 12s 28ms/step - loss: 0.3932 - accuracy: 0.8495 - val_loss: 0.3375 - val_accuracy: 0.8897\n",
            "Epoch 33/50\n",
            "421/421 [==============================] - 12s 28ms/step - loss: 0.3865 - accuracy: 0.8561 - val_loss: 0.3253 - val_accuracy: 0.8859\n",
            "Epoch 34/50\n",
            "421/421 [==============================] - 12s 30ms/step - loss: 0.3727 - accuracy: 0.8589 - val_loss: 0.3256 - val_accuracy: 0.8843\n",
            "Epoch 35/50\n",
            "421/421 [==============================] - 12s 28ms/step - loss: 0.3662 - accuracy: 0.8592 - val_loss: 0.3061 - val_accuracy: 0.8921\n",
            "Epoch 36/50\n",
            "421/421 [==============================] - 12s 28ms/step - loss: 0.3580 - accuracy: 0.8656 - val_loss: 0.3060 - val_accuracy: 0.8890\n",
            "Epoch 37/50\n",
            "421/421 [==============================] - 11s 27ms/step - loss: 0.3494 - accuracy: 0.8710 - val_loss: 0.2906 - val_accuracy: 0.8974\n",
            "Epoch 38/50\n",
            "421/421 [==============================] - 9s 23ms/step - loss: 0.3486 - accuracy: 0.8682 - val_loss: 0.2862 - val_accuracy: 0.8953\n",
            "Epoch 39/50\n",
            "421/421 [==============================] - 11s 27ms/step - loss: 0.3379 - accuracy: 0.8732 - val_loss: 0.2737 - val_accuracy: 0.9106\n",
            "Epoch 40/50\n",
            "421/421 [==============================] - 12s 28ms/step - loss: 0.3292 - accuracy: 0.8770 - val_loss: 0.2656 - val_accuracy: 0.9129\n",
            "Epoch 41/50\n",
            "421/421 [==============================] - 11s 26ms/step - loss: 0.3212 - accuracy: 0.8819 - val_loss: 0.2620 - val_accuracy: 0.9120\n",
            "Epoch 42/50\n",
            "421/421 [==============================] - 12s 28ms/step - loss: 0.3182 - accuracy: 0.8826 - val_loss: 0.2547 - val_accuracy: 0.9078\n",
            "Epoch 43/50\n",
            "421/421 [==============================] - 12s 28ms/step - loss: 0.3085 - accuracy: 0.8825 - val_loss: 0.2469 - val_accuracy: 0.9279\n",
            "Epoch 44/50\n",
            "421/421 [==============================] - 11s 27ms/step - loss: 0.3077 - accuracy: 0.8858 - val_loss: 0.2340 - val_accuracy: 0.9282\n",
            "Epoch 45/50\n",
            "421/421 [==============================] - 11s 26ms/step - loss: 0.2930 - accuracy: 0.8919 - val_loss: 0.2255 - val_accuracy: 0.9333\n",
            "Epoch 46/50\n",
            "421/421 [==============================] - 11s 26ms/step - loss: 0.2918 - accuracy: 0.8917 - val_loss: 0.2260 - val_accuracy: 0.9219\n",
            "Epoch 47/50\n",
            "421/421 [==============================] - 12s 28ms/step - loss: 0.2893 - accuracy: 0.8927 - val_loss: 0.2166 - val_accuracy: 0.9363\n",
            "Epoch 48/50\n",
            "421/421 [==============================] - 12s 28ms/step - loss: 0.2803 - accuracy: 0.8961 - val_loss: 0.2532 - val_accuracy: 0.8932\n",
            "Epoch 49/50\n",
            "421/421 [==============================] - 12s 28ms/step - loss: 0.2789 - accuracy: 0.8974 - val_loss: 0.1978 - val_accuracy: 0.9461\n",
            "Epoch 50/50\n",
            "421/421 [==============================] - 12s 28ms/step - loss: 0.2588 - accuracy: 0.9064 - val_loss: 0.1974 - val_accuracy: 0.9419\n"
          ],
          "name": "stdout"
        }
      ]
    },
    {
      "cell_type": "code",
      "metadata": {
        "colab": {
          "base_uri": "https://localhost:8080/"
        },
        "id": "HzUNPxTie9fw",
        "outputId": "356c3915-2ce2-4020-ad74-7d4e79b6a9f5"
      },
      "source": [
        "model.predict(['im feeling bad'])"
      ],
      "execution_count": 14,
      "outputs": [
        {
          "output_type": "execute_result",
          "data": {
            "text/plain": [
              "array([[0.3478613 , 0.13545886, 0.5166799 ]], dtype=float32)"
            ]
          },
          "metadata": {
            "tags": []
          },
          "execution_count": 14
        }
      ]
    }
  ]
}